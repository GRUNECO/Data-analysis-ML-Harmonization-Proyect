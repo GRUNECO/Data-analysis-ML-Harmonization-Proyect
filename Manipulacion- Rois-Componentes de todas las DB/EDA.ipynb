{
 "cells": [
  {
   "attachments": {},
   "cell_type": "markdown",
   "metadata": {},
   "source": [
    "# Importación de librerías y carga de datos"
   ]
  },
  {
   "cell_type": "code",
   "execution_count": 213,
   "metadata": {},
   "outputs": [],
   "source": [
    "# Importación de librerías necesarias\n",
    "\n",
    "import pandas as pd \n",
    "import seaborn as sns\n",
    "%matplotlib inline\n",
    "import matplotlib.pyplot as plt\n",
    "from sklearn.model_selection import train_test_split\n",
    "import numpy as np\n",
    "from sklearn.svm import SVC\n",
    "from sklearn import datasets, metrics\n",
    "from sklearn.ensemble import RandomForestClassifier\n",
    "\n",
    "# Rutas donde cada persona tiene los df locales, de la carpeta de OneDrive\n",
    "# Copiar la ruta como una variable y cambiar la varibale en el siguiente\n",
    "# bloque de código.\n",
    "\n",
    "path_santiago = r'C:\\Users\\santi\\Universidad de Antioquia\\VALERIA CADAVID CASTRO - Resultados_Armonizacion_BD'\n",
    "path_veronica = r'C:\\Users\\veroh\\OneDrive - Universidad de Antioquia\\Resultados_Armonizacion_BD'"
   ]
  },
  {
   "cell_type": "code",
   "execution_count": 214,
   "metadata": {},
   "outputs": [],
   "source": [
    "path = path_veronica"
   ]
  },
  {
   "cell_type": "code",
   "execution_count": 215,
   "metadata": {},
   "outputs": [],
   "source": [
    "# Se cargan los df\n",
    "\n",
    "data_roi = pd.read_feather(r'{path}\\Datosparaorganizardataframes\\Data_complete_roi.feather'.format(path=path))\n",
    "data_com = pd.read_feather(r'{path}\\Datosparaorganizardataframes\\Data_complete_ic.feather'.format(path=path))"
   ]
  },
  {
   "cell_type": "code",
   "execution_count": 216,
   "metadata": {},
   "outputs": [
    {
     "data": {
      "text/plain": [
       "(695, 396)"
      ]
     },
     "execution_count": 216,
     "metadata": {},
     "output_type": "execute_result"
    }
   ],
   "source": [
    "data_roi.shape"
   ]
  },
  {
   "cell_type": "code",
   "execution_count": 217,
   "metadata": {},
   "outputs": [
    {
     "data": {
      "text/html": [
       "<div>\n",
       "<style scoped>\n",
       "    .dataframe tbody tr th:only-of-type {\n",
       "        vertical-align: middle;\n",
       "    }\n",
       "\n",
       "    .dataframe tbody tr th {\n",
       "        vertical-align: top;\n",
       "    }\n",
       "\n",
       "    .dataframe thead th {\n",
       "        text-align: right;\n",
       "    }\n",
       "</style>\n",
       "<table border=\"1\" class=\"dataframe\">\n",
       "  <thead>\n",
       "    <tr style=\"text-align: right;\">\n",
       "      <th></th>\n",
       "      <th>participant_id</th>\n",
       "      <th>group</th>\n",
       "      <th>visit</th>\n",
       "      <th>condition</th>\n",
       "      <th>power_F_Delta</th>\n",
       "      <th>power_C_Delta</th>\n",
       "      <th>power_PO_Delta</th>\n",
       "      <th>power_T_Delta</th>\n",
       "      <th>power_F_Theta</th>\n",
       "      <th>power_C_Theta</th>\n",
       "      <th>...</th>\n",
       "      <th>crossfreq_PO_Mbeta3_Gamma</th>\n",
       "      <th>crossfreq_PO_Mgamma_Gamma</th>\n",
       "      <th>crossfreq_T_Mdelta_Gamma</th>\n",
       "      <th>crossfreq_T_Mtheta_Gamma</th>\n",
       "      <th>crossfreq_T_Malpha-1_Gamma</th>\n",
       "      <th>crossfreq_T_Malpha-2_Gamma</th>\n",
       "      <th>crossfreq_T_Mbeta1_Gamma</th>\n",
       "      <th>crossfreq_T_Mbeta2_Gamma</th>\n",
       "      <th>crossfreq_T_Mbeta3_Gamma</th>\n",
       "      <th>crossfreq_T_Mgamma_Gamma</th>\n",
       "    </tr>\n",
       "  </thead>\n",
       "  <tbody>\n",
       "    <tr>\n",
       "      <th>0</th>\n",
       "      <td>sub-001</td>\n",
       "      <td>Control</td>\n",
       "      <td>t1</td>\n",
       "      <td>resteyesc</td>\n",
       "      <td>0.189602</td>\n",
       "      <td>0.176659</td>\n",
       "      <td>0.101200</td>\n",
       "      <td>0.223827</td>\n",
       "      <td>0.066207</td>\n",
       "      <td>0.068513</td>\n",
       "      <td>...</td>\n",
       "      <td>0.168018</td>\n",
       "      <td>0.109982</td>\n",
       "      <td>89.140234</td>\n",
       "      <td>2.750575</td>\n",
       "      <td>0.414048</td>\n",
       "      <td>0.235265</td>\n",
       "      <td>0.286677</td>\n",
       "      <td>0.072954</td>\n",
       "      <td>0.098105</td>\n",
       "      <td>0.077196</td>\n",
       "    </tr>\n",
       "    <tr>\n",
       "      <th>1</th>\n",
       "      <td>sub-048</td>\n",
       "      <td>Control</td>\n",
       "      <td>t1</td>\n",
       "      <td>resteyesc</td>\n",
       "      <td>0.375694</td>\n",
       "      <td>0.288320</td>\n",
       "      <td>0.279237</td>\n",
       "      <td>0.143382</td>\n",
       "      <td>0.110032</td>\n",
       "      <td>0.106148</td>\n",
       "      <td>...</td>\n",
       "      <td>0.198484</td>\n",
       "      <td>0.228202</td>\n",
       "      <td>88.493464</td>\n",
       "      <td>2.869721</td>\n",
       "      <td>0.333480</td>\n",
       "      <td>0.176439</td>\n",
       "      <td>0.268310</td>\n",
       "      <td>0.070710</td>\n",
       "      <td>0.128754</td>\n",
       "      <td>0.174227</td>\n",
       "    </tr>\n",
       "    <tr>\n",
       "      <th>2</th>\n",
       "      <td>sub-032</td>\n",
       "      <td>Control</td>\n",
       "      <td>t2</td>\n",
       "      <td>resteyesc</td>\n",
       "      <td>0.109964</td>\n",
       "      <td>0.108311</td>\n",
       "      <td>0.068854</td>\n",
       "      <td>0.083404</td>\n",
       "      <td>0.232157</td>\n",
       "      <td>0.194845</td>\n",
       "      <td>...</td>\n",
       "      <td>0.132916</td>\n",
       "      <td>0.133881</td>\n",
       "      <td>79.727876</td>\n",
       "      <td>5.657763</td>\n",
       "      <td>0.769356</td>\n",
       "      <td>0.322866</td>\n",
       "      <td>0.381314</td>\n",
       "      <td>0.100357</td>\n",
       "      <td>0.177042</td>\n",
       "      <td>0.201132</td>\n",
       "    </tr>\n",
       "    <tr>\n",
       "      <th>3</th>\n",
       "      <td>sub-033</td>\n",
       "      <td>Control</td>\n",
       "      <td>t1</td>\n",
       "      <td>resteyesc</td>\n",
       "      <td>0.083578</td>\n",
       "      <td>0.103054</td>\n",
       "      <td>0.082122</td>\n",
       "      <td>0.094533</td>\n",
       "      <td>0.242587</td>\n",
       "      <td>0.249982</td>\n",
       "      <td>...</td>\n",
       "      <td>0.120825</td>\n",
       "      <td>0.086615</td>\n",
       "      <td>82.670584</td>\n",
       "      <td>4.803353</td>\n",
       "      <td>0.712749</td>\n",
       "      <td>0.353476</td>\n",
       "      <td>0.368726</td>\n",
       "      <td>0.097342</td>\n",
       "      <td>0.135079</td>\n",
       "      <td>0.099665</td>\n",
       "    </tr>\n",
       "    <tr>\n",
       "      <th>4</th>\n",
       "      <td>sub-034</td>\n",
       "      <td>Control</td>\n",
       "      <td>t1</td>\n",
       "      <td>resteyesc</td>\n",
       "      <td>0.216370</td>\n",
       "      <td>0.259794</td>\n",
       "      <td>0.169278</td>\n",
       "      <td>0.195440</td>\n",
       "      <td>0.102207</td>\n",
       "      <td>0.106738</td>\n",
       "      <td>...</td>\n",
       "      <td>0.105230</td>\n",
       "      <td>0.083918</td>\n",
       "      <td>88.670533</td>\n",
       "      <td>2.944692</td>\n",
       "      <td>0.347031</td>\n",
       "      <td>0.165686</td>\n",
       "      <td>0.244780</td>\n",
       "      <td>0.058153</td>\n",
       "      <td>0.124275</td>\n",
       "      <td>0.161687</td>\n",
       "    </tr>\n",
       "    <tr>\n",
       "      <th>...</th>\n",
       "      <td>...</td>\n",
       "      <td>...</td>\n",
       "      <td>...</td>\n",
       "      <td>...</td>\n",
       "      <td>...</td>\n",
       "      <td>...</td>\n",
       "      <td>...</td>\n",
       "      <td>...</td>\n",
       "      <td>...</td>\n",
       "      <td>...</td>\n",
       "      <td>...</td>\n",
       "      <td>...</td>\n",
       "      <td>...</td>\n",
       "      <td>...</td>\n",
       "      <td>...</td>\n",
       "      <td>...</td>\n",
       "      <td>...</td>\n",
       "      <td>...</td>\n",
       "      <td>...</td>\n",
       "      <td>...</td>\n",
       "      <td>...</td>\n",
       "    </tr>\n",
       "    <tr>\n",
       "      <th>690</th>\n",
       "      <td>sub-CBM00142</td>\n",
       "      <td>Control</td>\n",
       "      <td>V0</td>\n",
       "      <td>protmap</td>\n",
       "      <td>0.200106</td>\n",
       "      <td>0.155914</td>\n",
       "      <td>0.133299</td>\n",
       "      <td>0.181092</td>\n",
       "      <td>0.072175</td>\n",
       "      <td>0.077957</td>\n",
       "      <td>...</td>\n",
       "      <td>0.148937</td>\n",
       "      <td>0.095100</td>\n",
       "      <td>88.616950</td>\n",
       "      <td>2.405921</td>\n",
       "      <td>0.454529</td>\n",
       "      <td>0.303030</td>\n",
       "      <td>0.374266</td>\n",
       "      <td>0.094186</td>\n",
       "      <td>0.124265</td>\n",
       "      <td>0.086150</td>\n",
       "    </tr>\n",
       "    <tr>\n",
       "      <th>691</th>\n",
       "      <td>sub-CBM00139</td>\n",
       "      <td>Control</td>\n",
       "      <td>V0</td>\n",
       "      <td>protmap</td>\n",
       "      <td>0.235616</td>\n",
       "      <td>0.213218</td>\n",
       "      <td>0.141323</td>\n",
       "      <td>0.267869</td>\n",
       "      <td>0.056001</td>\n",
       "      <td>0.065528</td>\n",
       "      <td>...</td>\n",
       "      <td>0.118125</td>\n",
       "      <td>0.079648</td>\n",
       "      <td>90.610515</td>\n",
       "      <td>2.671015</td>\n",
       "      <td>0.317979</td>\n",
       "      <td>0.167589</td>\n",
       "      <td>0.231405</td>\n",
       "      <td>0.055597</td>\n",
       "      <td>0.075149</td>\n",
       "      <td>0.050814</td>\n",
       "    </tr>\n",
       "    <tr>\n",
       "      <th>692</th>\n",
       "      <td>sub-CBM00181</td>\n",
       "      <td>Control</td>\n",
       "      <td>V0</td>\n",
       "      <td>protmap</td>\n",
       "      <td>0.320241</td>\n",
       "      <td>0.220400</td>\n",
       "      <td>0.227733</td>\n",
       "      <td>0.235943</td>\n",
       "      <td>0.133897</td>\n",
       "      <td>0.115115</td>\n",
       "      <td>...</td>\n",
       "      <td>0.102473</td>\n",
       "      <td>0.060939</td>\n",
       "      <td>90.251077</td>\n",
       "      <td>2.492620</td>\n",
       "      <td>0.327342</td>\n",
       "      <td>0.158792</td>\n",
       "      <td>0.283149</td>\n",
       "      <td>0.072093</td>\n",
       "      <td>0.105446</td>\n",
       "      <td>0.070008</td>\n",
       "    </tr>\n",
       "    <tr>\n",
       "      <th>693</th>\n",
       "      <td>sub-CBM00283</td>\n",
       "      <td>Control</td>\n",
       "      <td>V0</td>\n",
       "      <td>protmap</td>\n",
       "      <td>0.297278</td>\n",
       "      <td>0.181701</td>\n",
       "      <td>0.121155</td>\n",
       "      <td>0.188995</td>\n",
       "      <td>0.094440</td>\n",
       "      <td>0.073409</td>\n",
       "      <td>...</td>\n",
       "      <td>0.117141</td>\n",
       "      <td>0.082861</td>\n",
       "      <td>88.536266</td>\n",
       "      <td>2.627921</td>\n",
       "      <td>0.353599</td>\n",
       "      <td>0.261705</td>\n",
       "      <td>0.409050</td>\n",
       "      <td>0.087332</td>\n",
       "      <td>0.123650</td>\n",
       "      <td>0.083185</td>\n",
       "    </tr>\n",
       "    <tr>\n",
       "      <th>694</th>\n",
       "      <td>sub-CBM00284</td>\n",
       "      <td>Control</td>\n",
       "      <td>V0</td>\n",
       "      <td>protmap</td>\n",
       "      <td>0.251411</td>\n",
       "      <td>0.216528</td>\n",
       "      <td>0.175648</td>\n",
       "      <td>0.202776</td>\n",
       "      <td>0.111112</td>\n",
       "      <td>0.102221</td>\n",
       "      <td>...</td>\n",
       "      <td>0.105402</td>\n",
       "      <td>0.060375</td>\n",
       "      <td>90.232625</td>\n",
       "      <td>2.467810</td>\n",
       "      <td>0.379134</td>\n",
       "      <td>0.188562</td>\n",
       "      <td>0.284947</td>\n",
       "      <td>0.072226</td>\n",
       "      <td>0.094381</td>\n",
       "      <td>0.052668</td>\n",
       "    </tr>\n",
       "  </tbody>\n",
       "</table>\n",
       "<p>695 rows × 396 columns</p>\n",
       "</div>"
      ],
      "text/plain": [
       "    participant_id    group visit  condition  power_F_Delta  power_C_Delta  \\\n",
       "0          sub-001  Control    t1  resteyesc       0.189602       0.176659   \n",
       "1          sub-048  Control    t1  resteyesc       0.375694       0.288320   \n",
       "2          sub-032  Control    t2  resteyesc       0.109964       0.108311   \n",
       "3          sub-033  Control    t1  resteyesc       0.083578       0.103054   \n",
       "4          sub-034  Control    t1  resteyesc       0.216370       0.259794   \n",
       "..             ...      ...   ...        ...            ...            ...   \n",
       "690   sub-CBM00142  Control    V0    protmap       0.200106       0.155914   \n",
       "691   sub-CBM00139  Control    V0    protmap       0.235616       0.213218   \n",
       "692   sub-CBM00181  Control    V0    protmap       0.320241       0.220400   \n",
       "693   sub-CBM00283  Control    V0    protmap       0.297278       0.181701   \n",
       "694   sub-CBM00284  Control    V0    protmap       0.251411       0.216528   \n",
       "\n",
       "     power_PO_Delta  power_T_Delta  power_F_Theta  power_C_Theta  ...  \\\n",
       "0          0.101200       0.223827       0.066207       0.068513  ...   \n",
       "1          0.279237       0.143382       0.110032       0.106148  ...   \n",
       "2          0.068854       0.083404       0.232157       0.194845  ...   \n",
       "3          0.082122       0.094533       0.242587       0.249982  ...   \n",
       "4          0.169278       0.195440       0.102207       0.106738  ...   \n",
       "..              ...            ...            ...            ...  ...   \n",
       "690        0.133299       0.181092       0.072175       0.077957  ...   \n",
       "691        0.141323       0.267869       0.056001       0.065528  ...   \n",
       "692        0.227733       0.235943       0.133897       0.115115  ...   \n",
       "693        0.121155       0.188995       0.094440       0.073409  ...   \n",
       "694        0.175648       0.202776       0.111112       0.102221  ...   \n",
       "\n",
       "     crossfreq_PO_Mbeta3_Gamma  crossfreq_PO_Mgamma_Gamma  \\\n",
       "0                     0.168018                   0.109982   \n",
       "1                     0.198484                   0.228202   \n",
       "2                     0.132916                   0.133881   \n",
       "3                     0.120825                   0.086615   \n",
       "4                     0.105230                   0.083918   \n",
       "..                         ...                        ...   \n",
       "690                   0.148937                   0.095100   \n",
       "691                   0.118125                   0.079648   \n",
       "692                   0.102473                   0.060939   \n",
       "693                   0.117141                   0.082861   \n",
       "694                   0.105402                   0.060375   \n",
       "\n",
       "     crossfreq_T_Mdelta_Gamma  crossfreq_T_Mtheta_Gamma  \\\n",
       "0                   89.140234                  2.750575   \n",
       "1                   88.493464                  2.869721   \n",
       "2                   79.727876                  5.657763   \n",
       "3                   82.670584                  4.803353   \n",
       "4                   88.670533                  2.944692   \n",
       "..                        ...                       ...   \n",
       "690                 88.616950                  2.405921   \n",
       "691                 90.610515                  2.671015   \n",
       "692                 90.251077                  2.492620   \n",
       "693                 88.536266                  2.627921   \n",
       "694                 90.232625                  2.467810   \n",
       "\n",
       "     crossfreq_T_Malpha-1_Gamma  crossfreq_T_Malpha-2_Gamma  \\\n",
       "0                      0.414048                    0.235265   \n",
       "1                      0.333480                    0.176439   \n",
       "2                      0.769356                    0.322866   \n",
       "3                      0.712749                    0.353476   \n",
       "4                      0.347031                    0.165686   \n",
       "..                          ...                         ...   \n",
       "690                    0.454529                    0.303030   \n",
       "691                    0.317979                    0.167589   \n",
       "692                    0.327342                    0.158792   \n",
       "693                    0.353599                    0.261705   \n",
       "694                    0.379134                    0.188562   \n",
       "\n",
       "     crossfreq_T_Mbeta1_Gamma  crossfreq_T_Mbeta2_Gamma  \\\n",
       "0                    0.286677                  0.072954   \n",
       "1                    0.268310                  0.070710   \n",
       "2                    0.381314                  0.100357   \n",
       "3                    0.368726                  0.097342   \n",
       "4                    0.244780                  0.058153   \n",
       "..                        ...                       ...   \n",
       "690                  0.374266                  0.094186   \n",
       "691                  0.231405                  0.055597   \n",
       "692                  0.283149                  0.072093   \n",
       "693                  0.409050                  0.087332   \n",
       "694                  0.284947                  0.072226   \n",
       "\n",
       "     crossfreq_T_Mbeta3_Gamma  crossfreq_T_Mgamma_Gamma  \n",
       "0                    0.098105                  0.077196  \n",
       "1                    0.128754                  0.174227  \n",
       "2                    0.177042                  0.201132  \n",
       "3                    0.135079                  0.099665  \n",
       "4                    0.124275                  0.161687  \n",
       "..                        ...                       ...  \n",
       "690                  0.124265                  0.086150  \n",
       "691                  0.075149                  0.050814  \n",
       "692                  0.105446                  0.070008  \n",
       "693                  0.123650                  0.083185  \n",
       "694                  0.094381                  0.052668  \n",
       "\n",
       "[695 rows x 396 columns]"
      ]
     },
     "execution_count": 217,
     "metadata": {},
     "output_type": "execute_result"
    }
   ],
   "source": [
    "data_roi"
   ]
  },
  {
   "cell_type": "code",
   "execution_count": 218,
   "metadata": {},
   "outputs": [
    {
     "data": {
      "text/plain": [
       "(693, 2276)"
      ]
     },
     "execution_count": 218,
     "metadata": {},
     "output_type": "execute_result"
    }
   ],
   "source": [
    "data_com.shape"
   ]
  },
  {
   "cell_type": "code",
   "execution_count": 219,
   "metadata": {},
   "outputs": [
    {
     "data": {
      "text/html": [
       "<div>\n",
       "<style scoped>\n",
       "    .dataframe tbody tr th:only-of-type {\n",
       "        vertical-align: middle;\n",
       "    }\n",
       "\n",
       "    .dataframe tbody tr th {\n",
       "        vertical-align: top;\n",
       "    }\n",
       "\n",
       "    .dataframe thead th {\n",
       "        text-align: right;\n",
       "    }\n",
       "</style>\n",
       "<table border=\"1\" class=\"dataframe\">\n",
       "  <thead>\n",
       "    <tr style=\"text-align: right;\">\n",
       "      <th></th>\n",
       "      <th>participant_id</th>\n",
       "      <th>visit</th>\n",
       "      <th>group</th>\n",
       "      <th>condition</th>\n",
       "      <th>database</th>\n",
       "      <th>power_C14_Delta</th>\n",
       "      <th>power_C14_Theta</th>\n",
       "      <th>power_C14_Alpha-1</th>\n",
       "      <th>power_C14_Alpha-2</th>\n",
       "      <th>power_C14_Beta1</th>\n",
       "      <th>...</th>\n",
       "      <th>crossfreq_C24_Mbeta3_Gamma</th>\n",
       "      <th>crossfreq_C24_Mgamma_Gamma</th>\n",
       "      <th>crossfreq_C25_Mdelta_Gamma</th>\n",
       "      <th>crossfreq_C25_Mtheta_Gamma</th>\n",
       "      <th>crossfreq_C25_Malpha-1_Gamma</th>\n",
       "      <th>crossfreq_C25_Malpha-2_Gamma</th>\n",
       "      <th>crossfreq_C25_Mbeta1_Gamma</th>\n",
       "      <th>crossfreq_C25_Mbeta2_Gamma</th>\n",
       "      <th>crossfreq_C25_Mbeta3_Gamma</th>\n",
       "      <th>crossfreq_C25_Mgamma_Gamma</th>\n",
       "    </tr>\n",
       "  </thead>\n",
       "  <tbody>\n",
       "    <tr>\n",
       "      <th>0</th>\n",
       "      <td>sub-001</td>\n",
       "      <td>t1</td>\n",
       "      <td>Control</td>\n",
       "      <td>resteyesc</td>\n",
       "      <td>SRM</td>\n",
       "      <td>0.327104</td>\n",
       "      <td>0.090290</td>\n",
       "      <td>0.095894</td>\n",
       "      <td>0.171136</td>\n",
       "      <td>0.116639</td>\n",
       "      <td>...</td>\n",
       "      <td>0.046110</td>\n",
       "      <td>0.130110</td>\n",
       "      <td>0.137692</td>\n",
       "      <td>0.061519</td>\n",
       "      <td>0.298151</td>\n",
       "      <td>0.349850</td>\n",
       "      <td>0.150058</td>\n",
       "      <td>0.019943</td>\n",
       "      <td>0.085524</td>\n",
       "      <td>0.159833</td>\n",
       "    </tr>\n",
       "    <tr>\n",
       "      <th>1</th>\n",
       "      <td>sub-048</td>\n",
       "      <td>t1</td>\n",
       "      <td>Control</td>\n",
       "      <td>resteyesc</td>\n",
       "      <td>SRM</td>\n",
       "      <td>0.247386</td>\n",
       "      <td>0.071738</td>\n",
       "      <td>0.066750</td>\n",
       "      <td>0.059420</td>\n",
       "      <td>0.141935</td>\n",
       "      <td>...</td>\n",
       "      <td>0.054412</td>\n",
       "      <td>0.331761</td>\n",
       "      <td>0.124378</td>\n",
       "      <td>0.018468</td>\n",
       "      <td>0.013594</td>\n",
       "      <td>0.017734</td>\n",
       "      <td>0.025123</td>\n",
       "      <td>0.006607</td>\n",
       "      <td>0.036793</td>\n",
       "      <td>0.145007</td>\n",
       "    </tr>\n",
       "    <tr>\n",
       "      <th>2</th>\n",
       "      <td>sub-032</td>\n",
       "      <td>t2</td>\n",
       "      <td>Control</td>\n",
       "      <td>resteyesc</td>\n",
       "      <td>SRM</td>\n",
       "      <td>0.140841</td>\n",
       "      <td>0.106433</td>\n",
       "      <td>0.186905</td>\n",
       "      <td>0.049452</td>\n",
       "      <td>0.159093</td>\n",
       "      <td>...</td>\n",
       "      <td>0.073536</td>\n",
       "      <td>0.345448</td>\n",
       "      <td>0.056579</td>\n",
       "      <td>0.195908</td>\n",
       "      <td>0.310995</td>\n",
       "      <td>0.118157</td>\n",
       "      <td>0.034652</td>\n",
       "      <td>0.016495</td>\n",
       "      <td>0.046300</td>\n",
       "      <td>0.145798</td>\n",
       "    </tr>\n",
       "    <tr>\n",
       "      <th>3</th>\n",
       "      <td>sub-033</td>\n",
       "      <td>t1</td>\n",
       "      <td>Control</td>\n",
       "      <td>resteyesc</td>\n",
       "      <td>SRM</td>\n",
       "      <td>0.157902</td>\n",
       "      <td>0.154305</td>\n",
       "      <td>0.267533</td>\n",
       "      <td>0.064889</td>\n",
       "      <td>0.145734</td>\n",
       "      <td>...</td>\n",
       "      <td>0.057309</td>\n",
       "      <td>0.159613</td>\n",
       "      <td>0.074133</td>\n",
       "      <td>0.072748</td>\n",
       "      <td>0.166182</td>\n",
       "      <td>0.080233</td>\n",
       "      <td>0.062531</td>\n",
       "      <td>0.019376</td>\n",
       "      <td>0.042643</td>\n",
       "      <td>0.102436</td>\n",
       "    </tr>\n",
       "    <tr>\n",
       "      <th>4</th>\n",
       "      <td>sub-034</td>\n",
       "      <td>t1</td>\n",
       "      <td>Control</td>\n",
       "      <td>resteyesc</td>\n",
       "      <td>SRM</td>\n",
       "      <td>0.346331</td>\n",
       "      <td>0.085229</td>\n",
       "      <td>0.076336</td>\n",
       "      <td>0.071917</td>\n",
       "      <td>0.131478</td>\n",
       "      <td>...</td>\n",
       "      <td>0.069607</td>\n",
       "      <td>0.375366</td>\n",
       "      <td>0.138356</td>\n",
       "      <td>0.028879</td>\n",
       "      <td>0.059957</td>\n",
       "      <td>0.082952</td>\n",
       "      <td>0.058469</td>\n",
       "      <td>0.011121</td>\n",
       "      <td>0.036483</td>\n",
       "      <td>0.136901</td>\n",
       "    </tr>\n",
       "    <tr>\n",
       "      <th>...</th>\n",
       "      <td>...</td>\n",
       "      <td>...</td>\n",
       "      <td>...</td>\n",
       "      <td>...</td>\n",
       "      <td>...</td>\n",
       "      <td>...</td>\n",
       "      <td>...</td>\n",
       "      <td>...</td>\n",
       "      <td>...</td>\n",
       "      <td>...</td>\n",
       "      <td>...</td>\n",
       "      <td>...</td>\n",
       "      <td>...</td>\n",
       "      <td>...</td>\n",
       "      <td>...</td>\n",
       "      <td>...</td>\n",
       "      <td>...</td>\n",
       "      <td>...</td>\n",
       "      <td>...</td>\n",
       "      <td>...</td>\n",
       "      <td>...</td>\n",
       "    </tr>\n",
       "    <tr>\n",
       "      <th>688</th>\n",
       "      <td>sub-CBM00142</td>\n",
       "      <td>V0</td>\n",
       "      <td>Control</td>\n",
       "      <td>protmap</td>\n",
       "      <td>CHBMP</td>\n",
       "      <td>0.129311</td>\n",
       "      <td>0.056886</td>\n",
       "      <td>0.243857</td>\n",
       "      <td>0.346875</td>\n",
       "      <td>0.094494</td>\n",
       "      <td>...</td>\n",
       "      <td>0.065837</td>\n",
       "      <td>0.085042</td>\n",
       "      <td>0.106283</td>\n",
       "      <td>0.074464</td>\n",
       "      <td>0.184053</td>\n",
       "      <td>0.147773</td>\n",
       "      <td>0.041632</td>\n",
       "      <td>0.008653</td>\n",
       "      <td>0.080759</td>\n",
       "      <td>0.048921</td>\n",
       "    </tr>\n",
       "    <tr>\n",
       "      <th>689</th>\n",
       "      <td>sub-CBM00139</td>\n",
       "      <td>V0</td>\n",
       "      <td>Control</td>\n",
       "      <td>protmap</td>\n",
       "      <td>CHBMP</td>\n",
       "      <td>0.326392</td>\n",
       "      <td>0.095466</td>\n",
       "      <td>0.103793</td>\n",
       "      <td>0.219377</td>\n",
       "      <td>0.095150</td>\n",
       "      <td>...</td>\n",
       "      <td>0.030620</td>\n",
       "      <td>0.053995</td>\n",
       "      <td>0.133685</td>\n",
       "      <td>0.031298</td>\n",
       "      <td>0.077809</td>\n",
       "      <td>0.091993</td>\n",
       "      <td>0.067116</td>\n",
       "      <td>0.012603</td>\n",
       "      <td>0.038585</td>\n",
       "      <td>0.050885</td>\n",
       "    </tr>\n",
       "    <tr>\n",
       "      <th>690</th>\n",
       "      <td>sub-CBM00181</td>\n",
       "      <td>V0</td>\n",
       "      <td>Control</td>\n",
       "      <td>protmap</td>\n",
       "      <td>CHBMP</td>\n",
       "      <td>0.156019</td>\n",
       "      <td>0.093890</td>\n",
       "      <td>0.106951</td>\n",
       "      <td>0.118123</td>\n",
       "      <td>0.238013</td>\n",
       "      <td>...</td>\n",
       "      <td>0.124776</td>\n",
       "      <td>0.256343</td>\n",
       "      <td>0.082982</td>\n",
       "      <td>0.029091</td>\n",
       "      <td>0.023285</td>\n",
       "      <td>0.023307</td>\n",
       "      <td>0.060876</td>\n",
       "      <td>0.020677</td>\n",
       "      <td>0.053764</td>\n",
       "      <td>0.085696</td>\n",
       "    </tr>\n",
       "    <tr>\n",
       "      <th>691</th>\n",
       "      <td>sub-CBM00283</td>\n",
       "      <td>V0</td>\n",
       "      <td>Control</td>\n",
       "      <td>protmap</td>\n",
       "      <td>CHBMP</td>\n",
       "      <td>0.257382</td>\n",
       "      <td>0.072319</td>\n",
       "      <td>0.162746</td>\n",
       "      <td>0.282953</td>\n",
       "      <td>0.124002</td>\n",
       "      <td>...</td>\n",
       "      <td>0.037085</td>\n",
       "      <td>0.049992</td>\n",
       "      <td>0.128109</td>\n",
       "      <td>0.050709</td>\n",
       "      <td>0.164024</td>\n",
       "      <td>0.275433</td>\n",
       "      <td>0.171037</td>\n",
       "      <td>0.014025</td>\n",
       "      <td>0.041827</td>\n",
       "      <td>0.043977</td>\n",
       "    </tr>\n",
       "    <tr>\n",
       "      <th>692</th>\n",
       "      <td>sub-CBM00284</td>\n",
       "      <td>V0</td>\n",
       "      <td>Control</td>\n",
       "      <td>protmap</td>\n",
       "      <td>CHBMP</td>\n",
       "      <td>0.203308</td>\n",
       "      <td>0.092275</td>\n",
       "      <td>0.211198</td>\n",
       "      <td>0.244425</td>\n",
       "      <td>0.063694</td>\n",
       "      <td>...</td>\n",
       "      <td>0.034208</td>\n",
       "      <td>0.028692</td>\n",
       "      <td>0.129473</td>\n",
       "      <td>0.054059</td>\n",
       "      <td>0.119746</td>\n",
       "      <td>0.087555</td>\n",
       "      <td>0.124702</td>\n",
       "      <td>0.029518</td>\n",
       "      <td>0.241829</td>\n",
       "      <td>0.058794</td>\n",
       "    </tr>\n",
       "  </tbody>\n",
       "</table>\n",
       "<p>693 rows × 2276 columns</p>\n",
       "</div>"
      ],
      "text/plain": [
       "    participant_id visit    group  condition database  power_C14_Delta  \\\n",
       "0          sub-001    t1  Control  resteyesc      SRM         0.327104   \n",
       "1          sub-048    t1  Control  resteyesc      SRM         0.247386   \n",
       "2          sub-032    t2  Control  resteyesc      SRM         0.140841   \n",
       "3          sub-033    t1  Control  resteyesc      SRM         0.157902   \n",
       "4          sub-034    t1  Control  resteyesc      SRM         0.346331   \n",
       "..             ...   ...      ...        ...      ...              ...   \n",
       "688   sub-CBM00142    V0  Control    protmap    CHBMP         0.129311   \n",
       "689   sub-CBM00139    V0  Control    protmap    CHBMP         0.326392   \n",
       "690   sub-CBM00181    V0  Control    protmap    CHBMP         0.156019   \n",
       "691   sub-CBM00283    V0  Control    protmap    CHBMP         0.257382   \n",
       "692   sub-CBM00284    V0  Control    protmap    CHBMP         0.203308   \n",
       "\n",
       "     power_C14_Theta  power_C14_Alpha-1  power_C14_Alpha-2  power_C14_Beta1  \\\n",
       "0           0.090290           0.095894           0.171136         0.116639   \n",
       "1           0.071738           0.066750           0.059420         0.141935   \n",
       "2           0.106433           0.186905           0.049452         0.159093   \n",
       "3           0.154305           0.267533           0.064889         0.145734   \n",
       "4           0.085229           0.076336           0.071917         0.131478   \n",
       "..               ...                ...                ...              ...   \n",
       "688         0.056886           0.243857           0.346875         0.094494   \n",
       "689         0.095466           0.103793           0.219377         0.095150   \n",
       "690         0.093890           0.106951           0.118123         0.238013   \n",
       "691         0.072319           0.162746           0.282953         0.124002   \n",
       "692         0.092275           0.211198           0.244425         0.063694   \n",
       "\n",
       "     ...  crossfreq_C24_Mbeta3_Gamma  crossfreq_C24_Mgamma_Gamma  \\\n",
       "0    ...                    0.046110                    0.130110   \n",
       "1    ...                    0.054412                    0.331761   \n",
       "2    ...                    0.073536                    0.345448   \n",
       "3    ...                    0.057309                    0.159613   \n",
       "4    ...                    0.069607                    0.375366   \n",
       "..   ...                         ...                         ...   \n",
       "688  ...                    0.065837                    0.085042   \n",
       "689  ...                    0.030620                    0.053995   \n",
       "690  ...                    0.124776                    0.256343   \n",
       "691  ...                    0.037085                    0.049992   \n",
       "692  ...                    0.034208                    0.028692   \n",
       "\n",
       "     crossfreq_C25_Mdelta_Gamma  crossfreq_C25_Mtheta_Gamma  \\\n",
       "0                      0.137692                    0.061519   \n",
       "1                      0.124378                    0.018468   \n",
       "2                      0.056579                    0.195908   \n",
       "3                      0.074133                    0.072748   \n",
       "4                      0.138356                    0.028879   \n",
       "..                          ...                         ...   \n",
       "688                    0.106283                    0.074464   \n",
       "689                    0.133685                    0.031298   \n",
       "690                    0.082982                    0.029091   \n",
       "691                    0.128109                    0.050709   \n",
       "692                    0.129473                    0.054059   \n",
       "\n",
       "     crossfreq_C25_Malpha-1_Gamma  crossfreq_C25_Malpha-2_Gamma  \\\n",
       "0                        0.298151                      0.349850   \n",
       "1                        0.013594                      0.017734   \n",
       "2                        0.310995                      0.118157   \n",
       "3                        0.166182                      0.080233   \n",
       "4                        0.059957                      0.082952   \n",
       "..                            ...                           ...   \n",
       "688                      0.184053                      0.147773   \n",
       "689                      0.077809                      0.091993   \n",
       "690                      0.023285                      0.023307   \n",
       "691                      0.164024                      0.275433   \n",
       "692                      0.119746                      0.087555   \n",
       "\n",
       "     crossfreq_C25_Mbeta1_Gamma  crossfreq_C25_Mbeta2_Gamma  \\\n",
       "0                      0.150058                    0.019943   \n",
       "1                      0.025123                    0.006607   \n",
       "2                      0.034652                    0.016495   \n",
       "3                      0.062531                    0.019376   \n",
       "4                      0.058469                    0.011121   \n",
       "..                          ...                         ...   \n",
       "688                    0.041632                    0.008653   \n",
       "689                    0.067116                    0.012603   \n",
       "690                    0.060876                    0.020677   \n",
       "691                    0.171037                    0.014025   \n",
       "692                    0.124702                    0.029518   \n",
       "\n",
       "     crossfreq_C25_Mbeta3_Gamma  crossfreq_C25_Mgamma_Gamma  \n",
       "0                      0.085524                    0.159833  \n",
       "1                      0.036793                    0.145007  \n",
       "2                      0.046300                    0.145798  \n",
       "3                      0.042643                    0.102436  \n",
       "4                      0.036483                    0.136901  \n",
       "..                          ...                         ...  \n",
       "688                    0.080759                    0.048921  \n",
       "689                    0.038585                    0.050885  \n",
       "690                    0.053764                    0.085696  \n",
       "691                    0.041827                    0.043977  \n",
       "692                    0.241829                    0.058794  \n",
       "\n",
       "[693 rows x 2276 columns]"
      ]
     },
     "execution_count": 219,
     "metadata": {},
     "output_type": "execute_result"
    }
   ],
   "source": [
    "data_com"
   ]
  },
  {
   "attachments": {},
   "cell_type": "markdown",
   "metadata": {},
   "source": [
    "# Preprocesamiento (diferentes pipelines de preprocesamiento)"
   ]
  },
  {
   "cell_type": "code",
   "execution_count": 220,
   "metadata": {},
   "outputs": [
    {
     "name": "stdout",
     "output_type": "stream",
     "text": [
      "48\n",
      "47\n"
     ]
    }
   ],
   "source": [
    "# Se visualizan cuantos datos pertenecen a la categoría DCL en cada df\n",
    "# para su posterior eliminación, puesto que no se utilizarán en el proceso\n",
    "# de entrenamiento de los modelos de clasificación.\n",
    "\n",
    "print((data_roi['group']=='DCL').sum())\n",
    "print((data_com['group']=='DCL').sum())"
   ]
  },
  {
   "cell_type": "code",
   "execution_count": 221,
   "metadata": {},
   "outputs": [],
   "source": [
    "# Se quitan los grupos que no van en el clafisicador (targets)\n",
    "\n",
    "data_roi.drop(data_roi[data_roi.group == 'DCL'].index, inplace=True)\n",
    "data_com.drop(data_com[data_com.group == 'DCL'].index, inplace=True)"
   ]
  },
  {
   "cell_type": "code",
   "execution_count": 222,
   "metadata": {},
   "outputs": [
    {
     "name": "stdout",
     "output_type": "stream",
     "text": [
      "(647, 396)\n",
      "(646, 2276)\n"
     ]
    }
   ],
   "source": [
    "# Se rectifican el número de sujetos que quedan tras el filtrado\n",
    "\n",
    "print(data_roi.shape)\n",
    "print(data_com.shape)"
   ]
  },
  {
   "attachments": {},
   "cell_type": "markdown",
   "metadata": {},
   "source": [
    "## Pipeline de potencias multiclase (preprocesamiento)"
   ]
  },
  {
   "cell_type": "code",
   "execution_count": 223,
   "metadata": {},
   "outputs": [
    {
     "name": "stderr",
     "output_type": "stream",
     "text": [
      "C:\\Users\\veroh\\AppData\\Local\\Temp\\ipykernel_120444\\2914807203.py:9: SettingWithCopyWarning: \n",
      "A value is trying to be set on a copy of a slice from a DataFrame.\n",
      "Try using .loc[row_indexer,col_indexer] = value instead\n",
      "\n",
      "See the caveats in the documentation: https://pandas.pydata.org/pandas-docs/stable/user_guide/indexing.html#returning-a-view-versus-a-copy\n",
      "  power_data_roi.loc[:,'group'] = data_roi.loc[:,'group']\n",
      "C:\\Users\\veroh\\AppData\\Local\\Temp\\ipykernel_120444\\2914807203.py:14: SettingWithCopyWarning: \n",
      "A value is trying to be set on a copy of a slice from a DataFrame.\n",
      "Try using .loc[row_indexer,col_indexer] = value instead\n",
      "\n",
      "See the caveats in the documentation: https://pandas.pydata.org/pandas-docs/stable/user_guide/indexing.html#returning-a-view-versus-a-copy\n",
      "  power_data_com.loc[:,'group'] = data_com.loc[:,'group']\n"
     ]
    }
   ],
   "source": [
    "# Se extraen las potencias  en ambos datasets\n",
    "# (filtrando columnas que contengan la palabra 'power' en su nombre).\n",
    "\n",
    "power_data_roi = data_roi.filter(regex='power')\n",
    "\n",
    "# Se añade la columna de grupo\n",
    "# la cual corresponde al target en la clasificación\n",
    "\n",
    "power_data_roi.loc[:,'group'] = data_roi.loc[:,'group']\n",
    "\n",
    "# Mismo procedimiento para el df de componentes\n",
    "\n",
    "power_data_com = data_com.filter(regex='power')\n",
    "power_data_com.loc[:,'group'] = data_com.loc[:,'group']\n"
   ]
  },
  {
   "cell_type": "code",
   "execution_count": 224,
   "metadata": {},
   "outputs": [
    {
     "name": "stdout",
     "output_type": "stream",
     "text": [
      "0\n",
      "0\n"
     ]
    }
   ],
   "source": [
    "# Verificación de que las etiquetas hayan quedado en la posición de que debe\n",
    "# ser utilizando la igualdad elemento a elemento.\n",
    "print((power_data_roi['group'] != data_roi['group']).sum())\n",
    "print((power_data_com['group'] != data_com['group']).sum())"
   ]
  },
  {
   "cell_type": "code",
   "execution_count": 225,
   "metadata": {},
   "outputs": [
    {
     "data": {
      "text/html": [
       "<div>\n",
       "<style scoped>\n",
       "    .dataframe tbody tr th:only-of-type {\n",
       "        vertical-align: middle;\n",
       "    }\n",
       "\n",
       "    .dataframe tbody tr th {\n",
       "        vertical-align: top;\n",
       "    }\n",
       "\n",
       "    .dataframe thead th {\n",
       "        text-align: right;\n",
       "    }\n",
       "</style>\n",
       "<table border=\"1\" class=\"dataframe\">\n",
       "  <thead>\n",
       "    <tr style=\"text-align: right;\">\n",
       "      <th></th>\n",
       "      <th>power_F_Delta</th>\n",
       "      <th>power_C_Delta</th>\n",
       "      <th>power_PO_Delta</th>\n",
       "      <th>power_T_Delta</th>\n",
       "      <th>power_F_Theta</th>\n",
       "      <th>power_C_Theta</th>\n",
       "      <th>power_PO_Theta</th>\n",
       "      <th>power_T_Theta</th>\n",
       "      <th>power_F_Alpha-1</th>\n",
       "      <th>power_C_Alpha-1</th>\n",
       "      <th>...</th>\n",
       "      <th>power_T_Beta2</th>\n",
       "      <th>power_F_Beta3</th>\n",
       "      <th>power_C_Beta3</th>\n",
       "      <th>power_PO_Beta3</th>\n",
       "      <th>power_T_Beta3</th>\n",
       "      <th>power_F_Gamma</th>\n",
       "      <th>power_C_Gamma</th>\n",
       "      <th>power_PO_Gamma</th>\n",
       "      <th>power_T_Gamma</th>\n",
       "      <th>group</th>\n",
       "    </tr>\n",
       "  </thead>\n",
       "  <tbody>\n",
       "    <tr>\n",
       "      <th>0</th>\n",
       "      <td>0.189602</td>\n",
       "      <td>0.176659</td>\n",
       "      <td>0.101200</td>\n",
       "      <td>0.223827</td>\n",
       "      <td>0.066207</td>\n",
       "      <td>0.068513</td>\n",
       "      <td>0.056224</td>\n",
       "      <td>0.087097</td>\n",
       "      <td>0.276828</td>\n",
       "      <td>0.285323</td>\n",
       "      <td>...</td>\n",
       "      <td>0.034790</td>\n",
       "      <td>0.057521</td>\n",
       "      <td>0.057246</td>\n",
       "      <td>0.043501</td>\n",
       "      <td>0.081341</td>\n",
       "      <td>0.035356</td>\n",
       "      <td>0.020914</td>\n",
       "      <td>0.013962</td>\n",
       "      <td>0.037231</td>\n",
       "      <td>Control</td>\n",
       "    </tr>\n",
       "    <tr>\n",
       "      <th>1</th>\n",
       "      <td>0.375694</td>\n",
       "      <td>0.288320</td>\n",
       "      <td>0.279237</td>\n",
       "      <td>0.143382</td>\n",
       "      <td>0.110032</td>\n",
       "      <td>0.106148</td>\n",
       "      <td>0.093774</td>\n",
       "      <td>0.064500</td>\n",
       "      <td>0.113129</td>\n",
       "      <td>0.114430</td>\n",
       "      <td>...</td>\n",
       "      <td>0.046153</td>\n",
       "      <td>0.098691</td>\n",
       "      <td>0.134979</td>\n",
       "      <td>0.120603</td>\n",
       "      <td>0.152258</td>\n",
       "      <td>0.074722</td>\n",
       "      <td>0.094784</td>\n",
       "      <td>0.094766</td>\n",
       "      <td>0.198513</td>\n",
       "      <td>Control</td>\n",
       "    </tr>\n",
       "    <tr>\n",
       "      <th>2</th>\n",
       "      <td>0.109964</td>\n",
       "      <td>0.108311</td>\n",
       "      <td>0.068854</td>\n",
       "      <td>0.083404</td>\n",
       "      <td>0.232157</td>\n",
       "      <td>0.194845</td>\n",
       "      <td>0.228018</td>\n",
       "      <td>0.114874</td>\n",
       "      <td>0.362355</td>\n",
       "      <td>0.347684</td>\n",
       "      <td>...</td>\n",
       "      <td>0.070064</td>\n",
       "      <td>0.080207</td>\n",
       "      <td>0.085837</td>\n",
       "      <td>0.052132</td>\n",
       "      <td>0.152723</td>\n",
       "      <td>0.056413</td>\n",
       "      <td>0.059504</td>\n",
       "      <td>0.043838</td>\n",
       "      <td>0.179326</td>\n",
       "      <td>Control</td>\n",
       "    </tr>\n",
       "    <tr>\n",
       "      <th>3</th>\n",
       "      <td>0.083578</td>\n",
       "      <td>0.103054</td>\n",
       "      <td>0.082122</td>\n",
       "      <td>0.094533</td>\n",
       "      <td>0.242587</td>\n",
       "      <td>0.249982</td>\n",
       "      <td>0.249030</td>\n",
       "      <td>0.269792</td>\n",
       "      <td>0.385234</td>\n",
       "      <td>0.355509</td>\n",
       "      <td>...</td>\n",
       "      <td>0.029102</td>\n",
       "      <td>0.044424</td>\n",
       "      <td>0.063733</td>\n",
       "      <td>0.029013</td>\n",
       "      <td>0.051463</td>\n",
       "      <td>0.030189</td>\n",
       "      <td>0.025021</td>\n",
       "      <td>0.016097</td>\n",
       "      <td>0.053606</td>\n",
       "      <td>Control</td>\n",
       "    </tr>\n",
       "    <tr>\n",
       "      <th>4</th>\n",
       "      <td>0.216370</td>\n",
       "      <td>0.259794</td>\n",
       "      <td>0.169278</td>\n",
       "      <td>0.195440</td>\n",
       "      <td>0.102207</td>\n",
       "      <td>0.106738</td>\n",
       "      <td>0.104244</td>\n",
       "      <td>0.093252</td>\n",
       "      <td>0.184423</td>\n",
       "      <td>0.234110</td>\n",
       "      <td>...</td>\n",
       "      <td>0.031409</td>\n",
       "      <td>0.092634</td>\n",
       "      <td>0.057411</td>\n",
       "      <td>0.049655</td>\n",
       "      <td>0.076847</td>\n",
       "      <td>0.127726</td>\n",
       "      <td>0.057284</td>\n",
       "      <td>0.055487</td>\n",
       "      <td>0.106771</td>\n",
       "      <td>Control</td>\n",
       "    </tr>\n",
       "    <tr>\n",
       "      <th>...</th>\n",
       "      <td>...</td>\n",
       "      <td>...</td>\n",
       "      <td>...</td>\n",
       "      <td>...</td>\n",
       "      <td>...</td>\n",
       "      <td>...</td>\n",
       "      <td>...</td>\n",
       "      <td>...</td>\n",
       "      <td>...</td>\n",
       "      <td>...</td>\n",
       "      <td>...</td>\n",
       "      <td>...</td>\n",
       "      <td>...</td>\n",
       "      <td>...</td>\n",
       "      <td>...</td>\n",
       "      <td>...</td>\n",
       "      <td>...</td>\n",
       "      <td>...</td>\n",
       "      <td>...</td>\n",
       "      <td>...</td>\n",
       "      <td>...</td>\n",
       "    </tr>\n",
       "    <tr>\n",
       "      <th>690</th>\n",
       "      <td>0.200106</td>\n",
       "      <td>0.155914</td>\n",
       "      <td>0.133299</td>\n",
       "      <td>0.181092</td>\n",
       "      <td>0.072175</td>\n",
       "      <td>0.077957</td>\n",
       "      <td>0.082671</td>\n",
       "      <td>0.088941</td>\n",
       "      <td>0.532705</td>\n",
       "      <td>0.480018</td>\n",
       "      <td>...</td>\n",
       "      <td>0.025289</td>\n",
       "      <td>0.027210</td>\n",
       "      <td>0.029588</td>\n",
       "      <td>0.018004</td>\n",
       "      <td>0.049415</td>\n",
       "      <td>0.020396</td>\n",
       "      <td>0.040166</td>\n",
       "      <td>0.014038</td>\n",
       "      <td>0.040012</td>\n",
       "      <td>Control</td>\n",
       "    </tr>\n",
       "    <tr>\n",
       "      <th>691</th>\n",
       "      <td>0.235616</td>\n",
       "      <td>0.213218</td>\n",
       "      <td>0.141323</td>\n",
       "      <td>0.267869</td>\n",
       "      <td>0.056001</td>\n",
       "      <td>0.065528</td>\n",
       "      <td>0.044335</td>\n",
       "      <td>0.080121</td>\n",
       "      <td>0.186176</td>\n",
       "      <td>0.185862</td>\n",
       "      <td>...</td>\n",
       "      <td>0.030539</td>\n",
       "      <td>0.035807</td>\n",
       "      <td>0.038972</td>\n",
       "      <td>0.032115</td>\n",
       "      <td>0.062086</td>\n",
       "      <td>0.024705</td>\n",
       "      <td>0.017078</td>\n",
       "      <td>0.012923</td>\n",
       "      <td>0.036413</td>\n",
       "      <td>Control</td>\n",
       "    </tr>\n",
       "    <tr>\n",
       "      <th>692</th>\n",
       "      <td>0.320241</td>\n",
       "      <td>0.220400</td>\n",
       "      <td>0.227733</td>\n",
       "      <td>0.235943</td>\n",
       "      <td>0.133897</td>\n",
       "      <td>0.115115</td>\n",
       "      <td>0.124916</td>\n",
       "      <td>0.108519</td>\n",
       "      <td>0.118561</td>\n",
       "      <td>0.133310</td>\n",
       "      <td>...</td>\n",
       "      <td>0.064260</td>\n",
       "      <td>0.096487</td>\n",
       "      <td>0.117928</td>\n",
       "      <td>0.101108</td>\n",
       "      <td>0.111628</td>\n",
       "      <td>0.033646</td>\n",
       "      <td>0.024477</td>\n",
       "      <td>0.035566</td>\n",
       "      <td>0.056424</td>\n",
       "      <td>Control</td>\n",
       "    </tr>\n",
       "    <tr>\n",
       "      <th>693</th>\n",
       "      <td>0.297278</td>\n",
       "      <td>0.181701</td>\n",
       "      <td>0.121155</td>\n",
       "      <td>0.188995</td>\n",
       "      <td>0.094440</td>\n",
       "      <td>0.073409</td>\n",
       "      <td>0.069815</td>\n",
       "      <td>0.083760</td>\n",
       "      <td>0.184525</td>\n",
       "      <td>0.265666</td>\n",
       "      <td>...</td>\n",
       "      <td>0.029774</td>\n",
       "      <td>0.042324</td>\n",
       "      <td>0.032036</td>\n",
       "      <td>0.030495</td>\n",
       "      <td>0.051669</td>\n",
       "      <td>0.024359</td>\n",
       "      <td>0.016696</td>\n",
       "      <td>0.013949</td>\n",
       "      <td>0.040938</td>\n",
       "      <td>Control</td>\n",
       "    </tr>\n",
       "    <tr>\n",
       "      <th>694</th>\n",
       "      <td>0.251411</td>\n",
       "      <td>0.216528</td>\n",
       "      <td>0.175648</td>\n",
       "      <td>0.202776</td>\n",
       "      <td>0.111112</td>\n",
       "      <td>0.102221</td>\n",
       "      <td>0.099563</td>\n",
       "      <td>0.105867</td>\n",
       "      <td>0.257896</td>\n",
       "      <td>0.287722</td>\n",
       "      <td>...</td>\n",
       "      <td>0.067053</td>\n",
       "      <td>0.052822</td>\n",
       "      <td>0.051979</td>\n",
       "      <td>0.041498</td>\n",
       "      <td>0.055071</td>\n",
       "      <td>0.027968</td>\n",
       "      <td>0.030323</td>\n",
       "      <td>0.023507</td>\n",
       "      <td>0.029743</td>\n",
       "      <td>Control</td>\n",
       "    </tr>\n",
       "  </tbody>\n",
       "</table>\n",
       "<p>647 rows × 33 columns</p>\n",
       "</div>"
      ],
      "text/plain": [
       "     power_F_Delta  power_C_Delta  power_PO_Delta  power_T_Delta  \\\n",
       "0         0.189602       0.176659        0.101200       0.223827   \n",
       "1         0.375694       0.288320        0.279237       0.143382   \n",
       "2         0.109964       0.108311        0.068854       0.083404   \n",
       "3         0.083578       0.103054        0.082122       0.094533   \n",
       "4         0.216370       0.259794        0.169278       0.195440   \n",
       "..             ...            ...             ...            ...   \n",
       "690       0.200106       0.155914        0.133299       0.181092   \n",
       "691       0.235616       0.213218        0.141323       0.267869   \n",
       "692       0.320241       0.220400        0.227733       0.235943   \n",
       "693       0.297278       0.181701        0.121155       0.188995   \n",
       "694       0.251411       0.216528        0.175648       0.202776   \n",
       "\n",
       "     power_F_Theta  power_C_Theta  power_PO_Theta  power_T_Theta  \\\n",
       "0         0.066207       0.068513        0.056224       0.087097   \n",
       "1         0.110032       0.106148        0.093774       0.064500   \n",
       "2         0.232157       0.194845        0.228018       0.114874   \n",
       "3         0.242587       0.249982        0.249030       0.269792   \n",
       "4         0.102207       0.106738        0.104244       0.093252   \n",
       "..             ...            ...             ...            ...   \n",
       "690       0.072175       0.077957        0.082671       0.088941   \n",
       "691       0.056001       0.065528        0.044335       0.080121   \n",
       "692       0.133897       0.115115        0.124916       0.108519   \n",
       "693       0.094440       0.073409        0.069815       0.083760   \n",
       "694       0.111112       0.102221        0.099563       0.105867   \n",
       "\n",
       "     power_F_Alpha-1  power_C_Alpha-1  ...  power_T_Beta2  power_F_Beta3  \\\n",
       "0           0.276828         0.285323  ...       0.034790       0.057521   \n",
       "1           0.113129         0.114430  ...       0.046153       0.098691   \n",
       "2           0.362355         0.347684  ...       0.070064       0.080207   \n",
       "3           0.385234         0.355509  ...       0.029102       0.044424   \n",
       "4           0.184423         0.234110  ...       0.031409       0.092634   \n",
       "..               ...              ...  ...            ...            ...   \n",
       "690         0.532705         0.480018  ...       0.025289       0.027210   \n",
       "691         0.186176         0.185862  ...       0.030539       0.035807   \n",
       "692         0.118561         0.133310  ...       0.064260       0.096487   \n",
       "693         0.184525         0.265666  ...       0.029774       0.042324   \n",
       "694         0.257896         0.287722  ...       0.067053       0.052822   \n",
       "\n",
       "     power_C_Beta3  power_PO_Beta3  power_T_Beta3  power_F_Gamma  \\\n",
       "0         0.057246        0.043501       0.081341       0.035356   \n",
       "1         0.134979        0.120603       0.152258       0.074722   \n",
       "2         0.085837        0.052132       0.152723       0.056413   \n",
       "3         0.063733        0.029013       0.051463       0.030189   \n",
       "4         0.057411        0.049655       0.076847       0.127726   \n",
       "..             ...             ...            ...            ...   \n",
       "690       0.029588        0.018004       0.049415       0.020396   \n",
       "691       0.038972        0.032115       0.062086       0.024705   \n",
       "692       0.117928        0.101108       0.111628       0.033646   \n",
       "693       0.032036        0.030495       0.051669       0.024359   \n",
       "694       0.051979        0.041498       0.055071       0.027968   \n",
       "\n",
       "     power_C_Gamma  power_PO_Gamma  power_T_Gamma    group  \n",
       "0         0.020914        0.013962       0.037231  Control  \n",
       "1         0.094784        0.094766       0.198513  Control  \n",
       "2         0.059504        0.043838       0.179326  Control  \n",
       "3         0.025021        0.016097       0.053606  Control  \n",
       "4         0.057284        0.055487       0.106771  Control  \n",
       "..             ...             ...            ...      ...  \n",
       "690       0.040166        0.014038       0.040012  Control  \n",
       "691       0.017078        0.012923       0.036413  Control  \n",
       "692       0.024477        0.035566       0.056424  Control  \n",
       "693       0.016696        0.013949       0.040938  Control  \n",
       "694       0.030323        0.023507       0.029743  Control  \n",
       "\n",
       "[647 rows x 33 columns]"
      ]
     },
     "execution_count": 225,
     "metadata": {},
     "output_type": "execute_result"
    }
   ],
   "source": [
    "power_data_roi"
   ]
  },
  {
   "cell_type": "code",
   "execution_count": 226,
   "metadata": {},
   "outputs": [
    {
     "data": {
      "text/html": [
       "<div>\n",
       "<style scoped>\n",
       "    .dataframe tbody tr th:only-of-type {\n",
       "        vertical-align: middle;\n",
       "    }\n",
       "\n",
       "    .dataframe tbody tr th {\n",
       "        vertical-align: top;\n",
       "    }\n",
       "\n",
       "    .dataframe thead th {\n",
       "        text-align: right;\n",
       "    }\n",
       "</style>\n",
       "<table border=\"1\" class=\"dataframe\">\n",
       "  <thead>\n",
       "    <tr style=\"text-align: right;\">\n",
       "      <th></th>\n",
       "      <th>power_C14_Delta</th>\n",
       "      <th>power_C14_Theta</th>\n",
       "      <th>power_C14_Alpha-1</th>\n",
       "      <th>power_C14_Alpha-2</th>\n",
       "      <th>power_C14_Beta1</th>\n",
       "      <th>power_C14_Beta2</th>\n",
       "      <th>power_C14_Beta3</th>\n",
       "      <th>power_C14_Gamma</th>\n",
       "      <th>power_C15_Delta</th>\n",
       "      <th>power_C15_Theta</th>\n",
       "      <th>...</th>\n",
       "      <th>power_C24_Gamma</th>\n",
       "      <th>power_C25_Delta</th>\n",
       "      <th>power_C25_Theta</th>\n",
       "      <th>power_C25_Alpha-1</th>\n",
       "      <th>power_C25_Alpha-2</th>\n",
       "      <th>power_C25_Beta1</th>\n",
       "      <th>power_C25_Beta2</th>\n",
       "      <th>power_C25_Beta3</th>\n",
       "      <th>power_C25_Gamma</th>\n",
       "      <th>group</th>\n",
       "    </tr>\n",
       "  </thead>\n",
       "  <tbody>\n",
       "    <tr>\n",
       "      <th>0</th>\n",
       "      <td>0.327104</td>\n",
       "      <td>0.090290</td>\n",
       "      <td>0.095894</td>\n",
       "      <td>0.171136</td>\n",
       "      <td>0.116639</td>\n",
       "      <td>0.031024</td>\n",
       "      <td>0.100370</td>\n",
       "      <td>0.067543</td>\n",
       "      <td>0.412928</td>\n",
       "      <td>0.121229</td>\n",
       "      <td>...</td>\n",
       "      <td>0.013167</td>\n",
       "      <td>0.092124</td>\n",
       "      <td>0.056419</td>\n",
       "      <td>0.354509</td>\n",
       "      <td>0.338190</td>\n",
       "      <td>0.077824</td>\n",
       "      <td>0.024582</td>\n",
       "      <td>0.042012</td>\n",
       "      <td>0.014342</td>\n",
       "      <td>Control</td>\n",
       "    </tr>\n",
       "    <tr>\n",
       "      <th>1</th>\n",
       "      <td>0.247386</td>\n",
       "      <td>0.071738</td>\n",
       "      <td>0.066750</td>\n",
       "      <td>0.059420</td>\n",
       "      <td>0.141935</td>\n",
       "      <td>0.047338</td>\n",
       "      <td>0.175262</td>\n",
       "      <td>0.190171</td>\n",
       "      <td>0.335093</td>\n",
       "      <td>0.099891</td>\n",
       "      <td>...</td>\n",
       "      <td>0.119121</td>\n",
       "      <td>0.415142</td>\n",
       "      <td>0.098463</td>\n",
       "      <td>0.065848</td>\n",
       "      <td>0.072560</td>\n",
       "      <td>0.149561</td>\n",
       "      <td>0.042183</td>\n",
       "      <td>0.091376</td>\n",
       "      <td>0.064866</td>\n",
       "      <td>Control</td>\n",
       "    </tr>\n",
       "    <tr>\n",
       "      <th>2</th>\n",
       "      <td>0.140841</td>\n",
       "      <td>0.106433</td>\n",
       "      <td>0.186905</td>\n",
       "      <td>0.049452</td>\n",
       "      <td>0.159093</td>\n",
       "      <td>0.105669</td>\n",
       "      <td>0.149959</td>\n",
       "      <td>0.101647</td>\n",
       "      <td>0.278358</td>\n",
       "      <td>0.154533</td>\n",
       "      <td>...</td>\n",
       "      <td>0.043151</td>\n",
       "      <td>0.085588</td>\n",
       "      <td>0.179970</td>\n",
       "      <td>0.575251</td>\n",
       "      <td>0.040625</td>\n",
       "      <td>0.058975</td>\n",
       "      <td>0.018758</td>\n",
       "      <td>0.023623</td>\n",
       "      <td>0.017210</td>\n",
       "      <td>Control</td>\n",
       "    </tr>\n",
       "    <tr>\n",
       "      <th>3</th>\n",
       "      <td>0.157902</td>\n",
       "      <td>0.154305</td>\n",
       "      <td>0.267533</td>\n",
       "      <td>0.064889</td>\n",
       "      <td>0.145734</td>\n",
       "      <td>0.069127</td>\n",
       "      <td>0.098994</td>\n",
       "      <td>0.041517</td>\n",
       "      <td>0.163492</td>\n",
       "      <td>0.145038</td>\n",
       "      <td>...</td>\n",
       "      <td>0.020211</td>\n",
       "      <td>0.100673</td>\n",
       "      <td>0.145661</td>\n",
       "      <td>0.469200</td>\n",
       "      <td>0.106960</td>\n",
       "      <td>0.079745</td>\n",
       "      <td>0.059673</td>\n",
       "      <td>0.026306</td>\n",
       "      <td>0.011782</td>\n",
       "      <td>Control</td>\n",
       "    </tr>\n",
       "    <tr>\n",
       "      <th>4</th>\n",
       "      <td>0.346331</td>\n",
       "      <td>0.085229</td>\n",
       "      <td>0.076336</td>\n",
       "      <td>0.071917</td>\n",
       "      <td>0.131478</td>\n",
       "      <td>0.045022</td>\n",
       "      <td>0.111403</td>\n",
       "      <td>0.132283</td>\n",
       "      <td>0.424508</td>\n",
       "      <td>0.109717</td>\n",
       "      <td>...</td>\n",
       "      <td>0.103555</td>\n",
       "      <td>0.245195</td>\n",
       "      <td>0.088844</td>\n",
       "      <td>0.208786</td>\n",
       "      <td>0.228378</td>\n",
       "      <td>0.120503</td>\n",
       "      <td>0.021160</td>\n",
       "      <td>0.045526</td>\n",
       "      <td>0.041608</td>\n",
       "      <td>Control</td>\n",
       "    </tr>\n",
       "    <tr>\n",
       "      <th>...</th>\n",
       "      <td>...</td>\n",
       "      <td>...</td>\n",
       "      <td>...</td>\n",
       "      <td>...</td>\n",
       "      <td>...</td>\n",
       "      <td>...</td>\n",
       "      <td>...</td>\n",
       "      <td>...</td>\n",
       "      <td>...</td>\n",
       "      <td>...</td>\n",
       "      <td>...</td>\n",
       "      <td>...</td>\n",
       "      <td>...</td>\n",
       "      <td>...</td>\n",
       "      <td>...</td>\n",
       "      <td>...</td>\n",
       "      <td>...</td>\n",
       "      <td>...</td>\n",
       "      <td>...</td>\n",
       "      <td>...</td>\n",
       "      <td>...</td>\n",
       "    </tr>\n",
       "    <tr>\n",
       "      <th>688</th>\n",
       "      <td>0.129311</td>\n",
       "      <td>0.056886</td>\n",
       "      <td>0.243857</td>\n",
       "      <td>0.346875</td>\n",
       "      <td>0.094494</td>\n",
       "      <td>0.023124</td>\n",
       "      <td>0.066560</td>\n",
       "      <td>0.038894</td>\n",
       "      <td>0.189479</td>\n",
       "      <td>0.048154</td>\n",
       "      <td>...</td>\n",
       "      <td>0.019293</td>\n",
       "      <td>0.121643</td>\n",
       "      <td>0.061784</td>\n",
       "      <td>0.627194</td>\n",
       "      <td>0.101736</td>\n",
       "      <td>0.033033</td>\n",
       "      <td>0.009645</td>\n",
       "      <td>0.016506</td>\n",
       "      <td>0.028458</td>\n",
       "      <td>Control</td>\n",
       "    </tr>\n",
       "    <tr>\n",
       "      <th>689</th>\n",
       "      <td>0.326392</td>\n",
       "      <td>0.095466</td>\n",
       "      <td>0.103793</td>\n",
       "      <td>0.219377</td>\n",
       "      <td>0.095150</td>\n",
       "      <td>0.040168</td>\n",
       "      <td>0.078880</td>\n",
       "      <td>0.040773</td>\n",
       "      <td>0.305733</td>\n",
       "      <td>0.092093</td>\n",
       "      <td>...</td>\n",
       "      <td>0.025071</td>\n",
       "      <td>0.193927</td>\n",
       "      <td>0.055548</td>\n",
       "      <td>0.185792</td>\n",
       "      <td>0.387611</td>\n",
       "      <td>0.096916</td>\n",
       "      <td>0.024525</td>\n",
       "      <td>0.039829</td>\n",
       "      <td>0.015850</td>\n",
       "      <td>Control</td>\n",
       "    </tr>\n",
       "    <tr>\n",
       "      <th>690</th>\n",
       "      <td>0.156019</td>\n",
       "      <td>0.093890</td>\n",
       "      <td>0.106951</td>\n",
       "      <td>0.118123</td>\n",
       "      <td>0.238013</td>\n",
       "      <td>0.106075</td>\n",
       "      <td>0.143480</td>\n",
       "      <td>0.037450</td>\n",
       "      <td>0.206543</td>\n",
       "      <td>0.107220</td>\n",
       "      <td>...</td>\n",
       "      <td>0.079751</td>\n",
       "      <td>0.262242</td>\n",
       "      <td>0.116653</td>\n",
       "      <td>0.109654</td>\n",
       "      <td>0.151588</td>\n",
       "      <td>0.149811</td>\n",
       "      <td>0.062408</td>\n",
       "      <td>0.110621</td>\n",
       "      <td>0.037022</td>\n",
       "      <td>Control</td>\n",
       "    </tr>\n",
       "    <tr>\n",
       "      <th>691</th>\n",
       "      <td>0.257382</td>\n",
       "      <td>0.072319</td>\n",
       "      <td>0.162746</td>\n",
       "      <td>0.282953</td>\n",
       "      <td>0.124002</td>\n",
       "      <td>0.023593</td>\n",
       "      <td>0.048525</td>\n",
       "      <td>0.028480</td>\n",
       "      <td>0.481628</td>\n",
       "      <td>0.137638</td>\n",
       "      <td>...</td>\n",
       "      <td>0.010511</td>\n",
       "      <td>0.117754</td>\n",
       "      <td>0.059860</td>\n",
       "      <td>0.207606</td>\n",
       "      <td>0.423183</td>\n",
       "      <td>0.135817</td>\n",
       "      <td>0.017241</td>\n",
       "      <td>0.028568</td>\n",
       "      <td>0.009970</td>\n",
       "      <td>Control</td>\n",
       "    </tr>\n",
       "    <tr>\n",
       "      <th>692</th>\n",
       "      <td>0.203308</td>\n",
       "      <td>0.092275</td>\n",
       "      <td>0.211198</td>\n",
       "      <td>0.244425</td>\n",
       "      <td>0.063694</td>\n",
       "      <td>0.104019</td>\n",
       "      <td>0.052008</td>\n",
       "      <td>0.029074</td>\n",
       "      <td>0.198306</td>\n",
       "      <td>0.089650</td>\n",
       "      <td>...</td>\n",
       "      <td>0.011463</td>\n",
       "      <td>0.170891</td>\n",
       "      <td>0.090614</td>\n",
       "      <td>0.248158</td>\n",
       "      <td>0.166160</td>\n",
       "      <td>0.050034</td>\n",
       "      <td>0.133041</td>\n",
       "      <td>0.044478</td>\n",
       "      <td>0.096625</td>\n",
       "      <td>Control</td>\n",
       "    </tr>\n",
       "  </tbody>\n",
       "</table>\n",
       "<p>646 rows × 65 columns</p>\n",
       "</div>"
      ],
      "text/plain": [
       "     power_C14_Delta  power_C14_Theta  power_C14_Alpha-1  power_C14_Alpha-2  \\\n",
       "0           0.327104         0.090290           0.095894           0.171136   \n",
       "1           0.247386         0.071738           0.066750           0.059420   \n",
       "2           0.140841         0.106433           0.186905           0.049452   \n",
       "3           0.157902         0.154305           0.267533           0.064889   \n",
       "4           0.346331         0.085229           0.076336           0.071917   \n",
       "..               ...              ...                ...                ...   \n",
       "688         0.129311         0.056886           0.243857           0.346875   \n",
       "689         0.326392         0.095466           0.103793           0.219377   \n",
       "690         0.156019         0.093890           0.106951           0.118123   \n",
       "691         0.257382         0.072319           0.162746           0.282953   \n",
       "692         0.203308         0.092275           0.211198           0.244425   \n",
       "\n",
       "     power_C14_Beta1  power_C14_Beta2  power_C14_Beta3  power_C14_Gamma  \\\n",
       "0           0.116639         0.031024         0.100370         0.067543   \n",
       "1           0.141935         0.047338         0.175262         0.190171   \n",
       "2           0.159093         0.105669         0.149959         0.101647   \n",
       "3           0.145734         0.069127         0.098994         0.041517   \n",
       "4           0.131478         0.045022         0.111403         0.132283   \n",
       "..               ...              ...              ...              ...   \n",
       "688         0.094494         0.023124         0.066560         0.038894   \n",
       "689         0.095150         0.040168         0.078880         0.040773   \n",
       "690         0.238013         0.106075         0.143480         0.037450   \n",
       "691         0.124002         0.023593         0.048525         0.028480   \n",
       "692         0.063694         0.104019         0.052008         0.029074   \n",
       "\n",
       "     power_C15_Delta  power_C15_Theta  ...  power_C24_Gamma  power_C25_Delta  \\\n",
       "0           0.412928         0.121229  ...         0.013167         0.092124   \n",
       "1           0.335093         0.099891  ...         0.119121         0.415142   \n",
       "2           0.278358         0.154533  ...         0.043151         0.085588   \n",
       "3           0.163492         0.145038  ...         0.020211         0.100673   \n",
       "4           0.424508         0.109717  ...         0.103555         0.245195   \n",
       "..               ...              ...  ...              ...              ...   \n",
       "688         0.189479         0.048154  ...         0.019293         0.121643   \n",
       "689         0.305733         0.092093  ...         0.025071         0.193927   \n",
       "690         0.206543         0.107220  ...         0.079751         0.262242   \n",
       "691         0.481628         0.137638  ...         0.010511         0.117754   \n",
       "692         0.198306         0.089650  ...         0.011463         0.170891   \n",
       "\n",
       "     power_C25_Theta  power_C25_Alpha-1  power_C25_Alpha-2  power_C25_Beta1  \\\n",
       "0           0.056419           0.354509           0.338190         0.077824   \n",
       "1           0.098463           0.065848           0.072560         0.149561   \n",
       "2           0.179970           0.575251           0.040625         0.058975   \n",
       "3           0.145661           0.469200           0.106960         0.079745   \n",
       "4           0.088844           0.208786           0.228378         0.120503   \n",
       "..               ...                ...                ...              ...   \n",
       "688         0.061784           0.627194           0.101736         0.033033   \n",
       "689         0.055548           0.185792           0.387611         0.096916   \n",
       "690         0.116653           0.109654           0.151588         0.149811   \n",
       "691         0.059860           0.207606           0.423183         0.135817   \n",
       "692         0.090614           0.248158           0.166160         0.050034   \n",
       "\n",
       "     power_C25_Beta2  power_C25_Beta3  power_C25_Gamma    group  \n",
       "0           0.024582         0.042012         0.014342  Control  \n",
       "1           0.042183         0.091376         0.064866  Control  \n",
       "2           0.018758         0.023623         0.017210  Control  \n",
       "3           0.059673         0.026306         0.011782  Control  \n",
       "4           0.021160         0.045526         0.041608  Control  \n",
       "..               ...              ...              ...      ...  \n",
       "688         0.009645         0.016506         0.028458  Control  \n",
       "689         0.024525         0.039829         0.015850  Control  \n",
       "690         0.062408         0.110621         0.037022  Control  \n",
       "691         0.017241         0.028568         0.009970  Control  \n",
       "692         0.133041         0.044478         0.096625  Control  \n",
       "\n",
       "[646 rows x 65 columns]"
      ]
     },
     "execution_count": 226,
     "metadata": {},
     "output_type": "execute_result"
    }
   ],
   "source": [
    "power_data_com"
   ]
  },
  {
   "cell_type": "code",
   "execution_count": 227,
   "metadata": {},
   "outputs": [
    {
     "name": "stdout",
     "output_type": "stream",
     "text": [
      "{'Control': 0, 'DTA': 1, 'G1': 2, 'G2': 3}\n",
      "{'Control': 0, 'DTA': 1, 'G1': 2, 'G2': 3}\n"
     ]
    }
   ],
   "source": [
    "# Se realiza un mapeo de clases donde se asigna una etiqueta númerica \n",
    "# a cada clase (desde 0 hasta 3)\n",
    "\n",
    "clases_mapeadas = {label:idx for idx,label in enumerate(np.unique(power_data_roi['group']))}\n",
    "print(clases_mapeadas)\n",
    "\n",
    "# Por verificación, se hace igualmente para el dataset de componentes\n",
    "\n",
    "clases_mapeadas = {label:idx for idx,label in enumerate(np.unique(power_data_com['group']))}\n",
    "print(clases_mapeadas)"
   ]
  },
  {
   "cell_type": "code",
   "execution_count": 228,
   "metadata": {},
   "outputs": [
    {
     "name": "stderr",
     "output_type": "stream",
     "text": [
      "C:\\Users\\veroh\\AppData\\Local\\Temp\\ipykernel_120444\\999636950.py:3: SettingWithCopyWarning: \n",
      "A value is trying to be set on a copy of a slice from a DataFrame.\n",
      "Try using .loc[row_indexer,col_indexer] = value instead\n",
      "\n",
      "See the caveats in the documentation: https://pandas.pydata.org/pandas-docs/stable/user_guide/indexing.html#returning-a-view-versus-a-copy\n",
      "  power_data_roi.loc[:,'group'] = power_data_roi.loc[:,'group'].map(clases_mapeadas)\n",
      "C:\\Users\\veroh\\AppData\\Local\\Temp\\ipykernel_120444\\999636950.py:3: FutureWarning: In a future version, `df.iloc[:, i] = newvals` will attempt to set the values inplace instead of always setting a new array. To retain the old behavior, use either `df[df.columns[i]] = newvals` or, if columns are non-unique, `df.isetitem(i, newvals)`\n",
      "  power_data_roi.loc[:,'group'] = power_data_roi.loc[:,'group'].map(clases_mapeadas)\n",
      "C:\\Users\\veroh\\AppData\\Local\\Temp\\ipykernel_120444\\999636950.py:4: SettingWithCopyWarning: \n",
      "A value is trying to be set on a copy of a slice from a DataFrame.\n",
      "Try using .loc[row_indexer,col_indexer] = value instead\n",
      "\n",
      "See the caveats in the documentation: https://pandas.pydata.org/pandas-docs/stable/user_guide/indexing.html#returning-a-view-versus-a-copy\n",
      "  power_data_com.loc[:,'group'] = power_data_com.loc[:,'group'].map(clases_mapeadas)\n",
      "C:\\Users\\veroh\\AppData\\Local\\Temp\\ipykernel_120444\\999636950.py:4: FutureWarning: In a future version, `df.iloc[:, i] = newvals` will attempt to set the values inplace instead of always setting a new array. To retain the old behavior, use either `df[df.columns[i]] = newvals` or, if columns are non-unique, `df.isetitem(i, newvals)`\n",
      "  power_data_com.loc[:,'group'] = power_data_com.loc[:,'group'].map(clases_mapeadas)\n"
     ]
    }
   ],
   "source": [
    "# Se realiza el mapeo de las clases \n",
    "\n",
    "power_data_roi.loc[:,'group'] = power_data_roi.loc[:,'group'].map(clases_mapeadas) \n",
    "power_data_com.loc[:,'group'] = power_data_com.loc[:,'group'].map(clases_mapeadas)"
   ]
  },
  {
   "cell_type": "code",
   "execution_count": 229,
   "metadata": {},
   "outputs": [
    {
     "name": "stdout",
     "output_type": "stream",
     "text": [
      "[0 1 2 3]\n",
      "[0 1 2 3]\n"
     ]
    }
   ],
   "source": [
    "print(power_data_roi['group'].unique())\n",
    "print(power_data_com['group'].unique())"
   ]
  },
  {
   "attachments": {},
   "cell_type": "markdown",
   "metadata": {},
   "source": [
    "## Pipeline de potencias para clasificación binaria (preprocesamiento)"
   ]
  },
  {
   "cell_type": "code",
   "execution_count": 230,
   "metadata": {},
   "outputs": [],
   "source": [
    "# Se separán los df entre ctr vs dta y g1 vs g2\n",
    "\n",
    "# Las etiquetas 0 y 1 correponden a controles y DTA respectivamente\n",
    "power_data_roi_ctr_dta = power_data_roi.loc[power_data_roi['group'] < 2]\n",
    "power_data_com_ctr_dta = power_data_com.loc[power_data_com['group'] < 2]\n",
    "\n",
    "# Las etiquetas 2 y 3 corresponden a g1 y g2 respectivamente\n",
    "power_data_roi_g1_g2 = power_data_roi.loc[power_data_roi['group'] >= 2]\n",
    "power_data_com_g1_g2 = power_data_com.loc[power_data_com['group'] >= 2]"
   ]
  },
  {
   "cell_type": "code",
   "execution_count": 231,
   "metadata": {},
   "outputs": [
    {
     "name": "stdout",
     "output_type": "stream",
     "text": [
      "[0 1]\n",
      "[2 3]\n",
      "--\n",
      "[0 1]\n",
      "[2 3]\n"
     ]
    }
   ],
   "source": [
    "print(power_data_roi_ctr_dta['group'].unique())\n",
    "print(power_data_roi_g1_g2['group'].unique())\n",
    "print('--')\n",
    "print(power_data_com_ctr_dta['group'].unique())\n",
    "print(power_data_com_g1_g2['group'].unique())"
   ]
  },
  {
   "attachments": {},
   "cell_type": "markdown",
   "metadata": {},
   "source": [
    "## Pipeline para el uso de todas las caracteristicas"
   ]
  },
  {
   "cell_type": "code",
   "execution_count": null,
   "metadata": {},
   "outputs": [],
   "source": []
  },
  {
   "attachments": {},
   "cell_type": "markdown",
   "metadata": {},
   "source": [
    "## Identificación de caracteristicas de relevancia a través de árboles de decisión   (para potencias)"
   ]
  },
  {
   "attachments": {},
   "cell_type": "markdown",
   "metadata": {},
   "source": [
    "Se realizó el procedimiento para ROI'S"
   ]
  },
  {
   "cell_type": "code",
   "execution_count": 232,
   "metadata": {},
   "outputs": [],
   "source": [
    "nombres_columnas = power_data_roi.columns[:-1]"
   ]
  },
  {
   "cell_type": "code",
   "execution_count": 233,
   "metadata": {},
   "outputs": [],
   "source": [
    "X_train_roi, X_test_roi, y_train_roi, y_test_roi = train_test_split(\n",
    "    power_data_roi.values[:,:-1],\n",
    "    power_data_roi.values[:,-1],\n",
    "    test_size=0.2,\n",
    "    random_state=1,\n",
    "    stratify=power_data_roi.values[:,-1])"
   ]
  },
  {
   "cell_type": "code",
   "execution_count": 234,
   "metadata": {},
   "outputs": [],
   "source": [
    "forestclf = RandomForestClassifier(n_estimators=500,\n",
    "    random_state=1)"
   ]
  },
  {
   "cell_type": "code",
   "execution_count": 235,
   "metadata": {},
   "outputs": [
    {
     "name": "stdout",
     "output_type": "stream",
     "text": [
      " 1) power_PO_Beta1                 0.051324\n",
      " 2) power_F_Gamma                  0.045785\n",
      " 3) power_C_Beta1                  0.040389\n",
      " 4) power_F_Beta1                  0.039510\n",
      " 5) power_T_Beta1                  0.038995\n",
      " 6) power_C_Gamma                  0.037418\n",
      " 7) power_PO_Delta                 0.035140\n",
      " 8) power_T_Gamma                  0.034092\n",
      " 9) power_PO_Gamma                 0.033428\n",
      "10) power_PO_Theta                 0.032776\n",
      "11) power_T_Delta                  0.032561\n",
      "12) power_PO_Alpha-2               0.030935\n",
      "13) power_T_Beta2                  0.030518\n",
      "14) power_F_Delta                  0.030308\n",
      "15) power_F_Beta3                  0.030058\n",
      "16) power_PO_Alpha-1               0.030040\n",
      "17) power_PO_Beta2                 0.028537\n",
      "18) power_C_Theta                  0.028029\n",
      "19) power_C_Delta                  0.027946\n",
      "20) power_F_Beta2                  0.027655\n",
      "21) power_C_Beta3                  0.027453\n",
      "22) power_C_Alpha-1                0.027214\n",
      "23) power_T_Theta                  0.027149\n",
      "24) power_F_Alpha-1                0.027072\n",
      "25) power_T_Alpha-2                0.026999\n",
      "26) power_T_Alpha-1                0.026890\n",
      "27) power_F_Theta                  0.026657\n",
      "28) power_F_Alpha-2                0.025765\n",
      "29) power_PO_Beta3                 0.025547\n",
      "30) power_C_Alpha-2                0.025487\n",
      "31) power_T_Beta3                  0.024780\n",
      "32) power_C_Beta2                  0.023544\n"
     ]
    },
    {
     "data": {
      "image/png": "[encoded data removed]",
      "text/plain": [
       "<Figure size 640x480 with 1 Axes>"
      ]
     },
     "metadata": {},
     "output_type": "display_data"
    }
   ],
   "source": [
    "forestclf.fit(X_train_roi, y_train_roi)\n",
    "features_scores = forestclf.feature_importances_\n",
    "features_scores\n",
    "index = np.argsort(features_scores)[::-1]\n",
    "\n",
    "\n",
    "for f in range(X_train_roi.shape[1]):\n",
    "\n",
    "    print(\"%2d) %-*s %f\" % (f + 1, 30,\n",
    "                        nombres_columnas[index[f]],\n",
    "                        features_scores[index[f]]))\n",
    "\n",
    "plt.title('Importancia de la caracteristica')\n",
    "\n",
    "plt.bar(range(X_train_roi.shape[1]),\n",
    "    features_scores[index],\n",
    "    align='center')\n",
    "\n",
    "plt.xticks(range(X_train_roi.shape[1]),\n",
    "    nombres_columnas,\n",
    "    rotation=90)\n",
    "\n",
    "plt.xlim([-1, X_train_roi.shape[1]])\n",
    "\n",
    "plt.tight_layout()\n",
    "\n",
    "plt.show()"
   ]
  },
  {
   "attachments": {},
   "cell_type": "markdown",
   "metadata": {},
   "source": [
    "Se relizó el procedimiento para componentes"
   ]
  },
  {
   "cell_type": "code",
   "execution_count": 236,
   "metadata": {},
   "outputs": [],
   "source": [
    "nombres_columnas = power_data_com.columns[:-1]"
   ]
  },
  {
   "cell_type": "code",
   "execution_count": 237,
   "metadata": {},
   "outputs": [],
   "source": [
    "X_train_com, X_test_com, y_train_com, y_test_com = train_test_split(\n",
    "    power_data_com.values[:,:-1],\n",
    "    power_data_com.values[:,-1],\n",
    "    test_size=0.2,\n",
    "    random_state=1,\n",
    "    stratify=power_data_com.values[:,-1])"
   ]
  },
  {
   "cell_type": "code",
   "execution_count": 238,
   "metadata": {},
   "outputs": [
    {
     "name": "stdout",
     "output_type": "stream",
     "text": [
      " 1) power_C18_Beta1                0.035317\n",
      " 2) power_C14_Delta                0.031602\n",
      " 3) power_C23_Beta1                0.030853\n",
      " 4) power_C25_Beta1                0.029509\n",
      " 5) power_C22_Beta1                0.029118\n",
      " 6) power_C14_Beta1                0.023691\n",
      " 7) power_C14_Beta3                0.022236\n",
      " 8) power_C14_Gamma                0.021063\n",
      " 9) power_C20_Delta                0.021058\n",
      "10) power_C20_Beta2                0.020676\n",
      "11) power_C20_Beta1                0.020421\n",
      "12) power_C25_Theta                0.019721\n",
      "13) power_C23_Alpha-2              0.018945\n",
      "14) power_C25_Delta                0.018307\n",
      "15) power_C15_Theta                0.018300\n",
      "16) power_C18_Beta2                0.018254\n",
      "17) power_C22_Delta                0.018241\n",
      "18) power_C14_Beta2                0.016059\n",
      "19) power_C22_Theta                0.015904\n",
      "20) power_C22_Alpha-2              0.015713\n",
      "21) power_C15_Alpha-2              0.015545\n",
      "22) power_C24_Beta1                0.015285\n",
      "23) power_C24_Alpha-2              0.015123\n",
      "24) power_C18_Theta                0.015106\n",
      "25) power_C24_Delta                0.014871\n",
      "26) power_C15_Delta                0.014719\n",
      "27) power_C15_Beta1                0.014592\n",
      "28) power_C15_Gamma                0.014426\n",
      "29) power_C18_Gamma                0.014342\n",
      "30) power_C23_Theta                0.014168\n",
      "31) power_C15_Beta3                0.014074\n",
      "32) power_C18_Beta3                0.014063\n",
      "33) power_C24_Theta                0.013817\n",
      "34) power_C18_Alpha-1              0.013731\n",
      "35) power_C15_Beta2                0.013617\n",
      "36) power_C24_Beta3                0.013367\n",
      "37) power_C25_Alpha-2              0.013217\n",
      "38) power_C18_Delta                0.013023\n",
      "39) power_C23_Delta                0.013015\n",
      "40) power_C14_Theta                0.013009\n",
      "41) power_C24_Beta2                0.012797\n",
      "42) power_C23_Gamma                0.012726\n",
      "43) power_C22_Beta2                0.012643\n",
      "44) power_C23_Alpha-1              0.012294\n",
      "45) power_C25_Gamma                0.012187\n",
      "46) power_C22_Gamma                0.012152\n",
      "47) power_C14_Alpha-2              0.012129\n",
      "48) power_C20_Alpha-2              0.012102\n",
      "49) power_C23_Beta3                0.011987\n",
      "50) power_C25_Beta2                0.011875\n",
      "51) power_C25_Alpha-1              0.011840\n",
      "52) power_C24_Alpha-1              0.011484\n",
      "53) power_C20_Beta3                0.010886\n",
      "54) power_C20_Theta                0.010860\n",
      "55) power_C20_Gamma                0.010840\n",
      "56) power_C24_Gamma                0.010795\n",
      "57) power_C14_Alpha-1              0.010600\n",
      "58) power_C23_Beta2                0.010594\n",
      "59) power_C18_Alpha-2              0.010386\n",
      "60) power_C22_Alpha-1              0.010343\n",
      "61) power_C25_Beta3                0.010261\n",
      "62) power_C15_Alpha-1              0.010083\n",
      "63) power_C22_Beta3                0.010065\n",
      "64) power_C20_Alpha-1              0.009970\n"
     ]
    },
    {
     "data": {
      "image/png": "[encoded data removed]",
      "text/plain": [
       "<Figure size 640x480 with 1 Axes>"
      ]
     },
     "metadata": {},
     "output_type": "display_data"
    }
   ],
   "source": [
    "forestclf.fit(X_train_com, y_train_com)\n",
    "features_scores = forestclf.feature_importances_\n",
    "features_scores\n",
    "index = np.argsort(features_scores)[::-1]\n",
    "\n",
    "\n",
    "for f in range(X_train_com.shape[1]):\n",
    "\n",
    "    print(\"%2d) %-*s %f\" % (f + 1, 30,\n",
    "                        nombres_columnas[index[f]],\n",
    "                        features_scores[index[f]]))\n",
    "\n",
    "plt.title('Importancia de la caracteristica')\n",
    "\n",
    "plt.bar(range(X_train_com.shape[1]),\n",
    "    features_scores[index],\n",
    "    align='center')\n",
    "\n",
    "#plt.xticks(range(X_train_com.shape[1]),\n",
    "#    nombres_columnas,\n",
    "#    rotation=90)\n",
    "\n",
    "plt.xlim([-1, X_train_com.shape[1]])\n",
    "\n",
    "plt.tight_layout()\n",
    "\n",
    "plt.show()"
   ]
  },
  {
   "attachments": {},
   "cell_type": "markdown",
   "metadata": {},
   "source": [
    "Se busca hacer una validación para ver si en los datasets de clasificación\n",
    "binaria, son las mismas carcateristicas las que siguen predominando.\n",
    "Inicialmente, se prueban los datasets Controles Vs. DTA"
   ]
  },
  {
   "cell_type": "code",
   "execution_count": 239,
   "metadata": {},
   "outputs": [],
   "source": [
    "nombres_columnas = power_data_roi_ctr_dta.columns[:-1]"
   ]
  },
  {
   "cell_type": "code",
   "execution_count": 240,
   "metadata": {},
   "outputs": [],
   "source": [
    "X_train_roi_ctr_dta, X_test_roi_ctr_dta, y_train_roi_ctr_dta, y_test_roi_ctr_dta = train_test_split(\n",
    "    power_data_roi_ctr_dta.values[:,:-1],\n",
    "    power_data_roi_ctr_dta.values[:,-1],\n",
    "    test_size=0.2,\n",
    "    random_state=1,\n",
    "    stratify=power_data_roi_ctr_dta.values[:,-1])"
   ]
  },
  {
   "cell_type": "code",
   "execution_count": 241,
   "metadata": {},
   "outputs": [
    {
     "name": "stdout",
     "output_type": "stream",
     "text": [
      " 1) power_PO_Theta                 0.076974\n",
      " 2) power_C_Theta                  0.069400\n",
      " 3) power_F_Gamma                  0.050885\n",
      " 4) power_T_Theta                  0.050135\n",
      " 5) power_F_Theta                  0.046348\n",
      " 6) power_PO_Alpha-1               0.043298\n",
      " 7) power_T_Alpha-2                0.041352\n",
      " 8) power_C_Alpha-1                0.038895\n",
      " 9) power_PO_Delta                 0.038812\n",
      "10) power_C_Gamma                  0.034363\n",
      "11) power_T_Gamma                  0.033375\n",
      "12) power_T_Alpha-1                0.032256\n",
      "13) power_F_Beta1                  0.031986\n",
      "14) power_PO_Beta2                 0.031504\n",
      "15) power_F_Alpha-1                0.029101\n",
      "16) power_C_Beta1                  0.027113\n",
      "17) power_C_Alpha-2                0.024661\n",
      "18) power_F_Alpha-2                0.024195\n",
      "19) power_PO_Beta1                 0.022976\n",
      "20) power_F_Beta2                  0.022430\n",
      "21) power_T_Beta2                  0.022051\n",
      "22) power_PO_Alpha-2               0.021697\n",
      "23) power_T_Delta                  0.021599\n",
      "24) power_PO_Beta3                 0.020160\n",
      "25) power_C_Delta                  0.019725\n",
      "26) power_C_Beta2                  0.019119\n",
      "27) power_T_Beta1                  0.018868\n",
      "28) power_F_Beta3                  0.018687\n",
      "29) power_F_Delta                  0.017089\n",
      "30) power_C_Beta3                  0.017024\n",
      "31) power_T_Beta3                  0.017008\n",
      "32) power_PO_Gamma                 0.016916\n"
     ]
    },
    {
     "data": {
      "image/png": "[encoded data removed]",
      "text/plain": [
       "<Figure size 640x480 with 1 Axes>"
      ]
     },
     "metadata": {},
     "output_type": "display_data"
    }
   ],
   "source": [
    "forestclf.fit(X_train_roi_ctr_dta, y_train_roi_ctr_dta)\n",
    "features_scores = forestclf.feature_importances_\n",
    "features_scores\n",
    "index = np.argsort(features_scores)[::-1]\n",
    "\n",
    "\n",
    "for f in range(X_train_roi_ctr_dta.shape[1]):\n",
    "\n",
    "    print(\"%2d) %-*s %f\" % (f + 1, 30,\n",
    "                        nombres_columnas[index[f]],\n",
    "                        features_scores[index[f]]))\n",
    "\n",
    "plt.title('Importancia de la caracteristica')\n",
    "\n",
    "plt.bar(range(X_train_roi_ctr_dta.shape[1]),\n",
    "    features_scores[index],\n",
    "    align='center')\n",
    "\n",
    "plt.xticks(range(X_train_roi_ctr_dta.shape[1]),\n",
    "    nombres_columnas,\n",
    "    rotation=90)\n",
    "\n",
    "plt.xlim([-1, X_train_roi_ctr_dta.shape[1]])\n",
    "\n",
    "plt.tight_layout()\n",
    "\n",
    "plt.show()"
   ]
  },
  {
   "cell_type": "code",
   "execution_count": 242,
   "metadata": {},
   "outputs": [],
   "source": [
    "nombres_columnas = power_data_com_ctr_dta.columns[:-1]"
   ]
  },
  {
   "cell_type": "code",
   "execution_count": 243,
   "metadata": {},
   "outputs": [],
   "source": [
    "X_train_com_ctr_dta, X_test_com_ctr_dta, y_train_com_ctr_dta, y_test_com_ctr_dta = train_test_split(\n",
    "    power_data_com_ctr_dta.values[:,:-1],\n",
    "    power_data_com_ctr_dta.values[:,-1],\n",
    "    test_size=0.2,\n",
    "    random_state=1,\n",
    "    stratify=power_data_com_ctr_dta.values[:,-1])"
   ]
  },
  {
   "cell_type": "code",
   "execution_count": 244,
   "metadata": {},
   "outputs": [
    {
     "name": "stdout",
     "output_type": "stream",
     "text": [
      " 1) power_C22_Theta                0.067052\n",
      " 2) power_C25_Theta                0.033183\n",
      " 3) power_C25_Gamma                0.032088\n",
      " 4) power_C24_Gamma                0.028580\n",
      " 5) power_C15_Gamma                0.028125\n",
      " 6) power_C14_Gamma                0.027557\n",
      " 7) power_C14_Theta                0.026336\n",
      " 8) power_C20_Theta                0.025771\n",
      " 9) power_C24_Theta                0.025585\n",
      "10) power_C14_Alpha-2              0.025436\n",
      "11) power_C18_Theta                0.025194\n",
      "12) power_C24_Alpha-2              0.022936\n",
      "13) power_C22_Beta2                0.020824\n",
      "14) power_C24_Alpha-1              0.020552\n",
      "15) power_C25_Alpha-1              0.018670\n",
      "16) power_C15_Delta                0.018373\n",
      "17) power_C25_Delta                0.017881\n",
      "18) power_C20_Beta2                0.017710\n",
      "19) power_C22_Alpha-1              0.016831\n",
      "20) power_C22_Alpha-2              0.016791\n",
      "21) power_C18_Gamma                0.016633\n",
      "22) power_C14_Beta3                0.016363\n",
      "23) power_C25_Beta1                0.016281\n",
      "24) power_C18_Delta                0.016204\n",
      "25) power_C15_Beta1                0.015822\n",
      "26) power_C18_Alpha-1              0.015591\n",
      "27) power_C23_Alpha-1              0.015110\n",
      "28) power_C20_Gamma                0.014653\n",
      "29) power_C23_Theta                0.014036\n",
      "30) power_C15_Theta                0.013768\n",
      "31) power_C20_Beta3                0.013596\n",
      "32) power_C20_Delta                0.013516\n",
      "33) power_C14_Delta                0.012587\n",
      "34) power_C23_Gamma                0.012584\n",
      "35) power_C24_Beta2                0.012519\n",
      "36) power_C20_Beta1                0.012233\n",
      "37) power_C23_Beta1                0.012219\n",
      "38) power_C22_Delta                0.011575\n",
      "39) power_C22_Beta3                0.011533\n",
      "40) power_C24_Beta3                0.011447\n",
      "41) power_C25_Alpha-2              0.010915\n",
      "42) power_C18_Beta1                0.010637\n",
      "43) power_C22_Gamma                0.010614\n",
      "44) power_C14_Beta2                0.010306\n",
      "45) power_C15_Alpha-2              0.010237\n",
      "46) power_C20_Alpha-2              0.010043\n",
      "47) power_C23_Delta                0.009783\n",
      "48) power_C18_Alpha-2              0.009734\n",
      "49) power_C18_Beta2                0.009342\n",
      "50) power_C20_Alpha-1              0.009336\n",
      "51) power_C15_Alpha-1              0.009246\n",
      "52) power_C14_Beta1                0.009069\n",
      "53) power_C25_Beta2                0.008776\n",
      "54) power_C18_Beta3                0.008137\n",
      "55) power_C24_Delta                0.008027\n",
      "56) power_C14_Alpha-1              0.008010\n",
      "57) power_C22_Beta1                0.007844\n",
      "58) power_C24_Beta1                0.007746\n",
      "59) power_C15_Beta3                0.007309\n",
      "60) power_C23_Beta3                0.007088\n",
      "61) power_C15_Beta2                0.006431\n",
      "62) power_C25_Beta3                0.006376\n",
      "63) power_C23_Beta2                0.005792\n",
      "64) power_C23_Alpha-2              0.005456\n"
     ]
    },
    {
     "data": {
      "image/png": "[encoded data removed]",
      "text/plain": [
       "<Figure size 640x480 with 1 Axes>"
      ]
     },
     "metadata": {},
     "output_type": "display_data"
    }
   ],
   "source": [
    "forestclf.fit(X_train_com_ctr_dta, y_train_com_ctr_dta)\n",
    "features_scores = forestclf.feature_importances_\n",
    "features_scores\n",
    "index = np.argsort(features_scores)[::-1]\n",
    "\n",
    "\n",
    "for f in range(X_train_com_ctr_dta.shape[1]):\n",
    "\n",
    "    print(\"%2d) %-*s %f\" % (f + 1, 30,\n",
    "                        nombres_columnas[index[f]],\n",
    "                        features_scores[index[f]]))\n",
    "\n",
    "plt.title('Importancia de la caracteristica')\n",
    "\n",
    "plt.bar(range(X_train_com_ctr_dta.shape[1]),\n",
    "    features_scores[index],\n",
    "    align='center')\n",
    "\n",
    "#plt.xticks(range(X_train_com_ctr_dta.shape[1]),\n",
    "#    nombres_columnas,\n",
    "#    rotation=90)\n",
    "\n",
    "plt.xlim([-1, X_train_com_ctr_dta.shape[1]])\n",
    "\n",
    "plt.tight_layout()\n",
    "\n",
    "plt.show()"
   ]
  },
  {
   "attachments": {},
   "cell_type": "markdown",
   "metadata": {},
   "source": [
    "Para G1 VS. G2"
   ]
  },
  {
   "cell_type": "code",
   "execution_count": 245,
   "metadata": {},
   "outputs": [],
   "source": [
    "nombres_columnas = power_data_roi_g1_g2.columns[:-1]"
   ]
  },
  {
   "cell_type": "code",
   "execution_count": 246,
   "metadata": {},
   "outputs": [],
   "source": [
    "X_train_roi_g1_g2, X_test_roi_g1_g2, y_train_roi_g1_g2, y_test_roi_g1_g2 = train_test_split(\n",
    "    power_data_roi_g1_g2.values[:,:-1],\n",
    "    power_data_roi_g1_g2.values[:,-1],\n",
    "    test_size=0.2,\n",
    "    random_state=1,\n",
    "    stratify=power_data_roi_g1_g2.values[:,-1])"
   ]
  },
  {
   "cell_type": "code",
   "execution_count": 247,
   "metadata": {},
   "outputs": [
    {
     "name": "stdout",
     "output_type": "stream",
     "text": [
      " 1) power_PO_Beta1                 0.054699\n",
      " 2) power_C_Beta3                  0.045174\n",
      " 3) power_PO_Alpha-1               0.040855\n",
      " 4) power_C_Beta1                  0.036617\n",
      " 5) power_C_Alpha-2                0.034443\n",
      " 6) power_F_Beta1                  0.034214\n",
      " 7) power_C_Gamma                  0.034159\n",
      " 8) power_F_Beta3                  0.033803\n",
      " 9) power_PO_Theta                 0.033026\n",
      "10) power_T_Theta                  0.032969\n",
      "11) power_T_Beta1                  0.032421\n",
      "12) power_F_Alpha-1                0.031856\n",
      "13) power_F_Gamma                  0.031646\n",
      "14) power_PO_Alpha-2               0.031541\n",
      "15) power_PO_Delta                 0.030597\n",
      "16) power_C_Alpha-1                0.030403\n",
      "17) power_T_Delta                  0.029507\n",
      "18) power_PO_Gamma                 0.028811\n",
      "19) power_C_Delta                  0.028756\n",
      "20) power_T_Alpha-1                0.028699\n",
      "21) power_F_Alpha-2                0.028656\n",
      "22) power_PO_Beta2                 0.028401\n",
      "23) power_T_Gamma                  0.028165\n",
      "24) power_F_Theta                  0.028015\n",
      "25) power_F_Beta2                  0.027763\n",
      "26) power_C_Beta2                  0.026317\n",
      "27) power_F_Delta                  0.026133\n",
      "28) power_T_Alpha-2                0.025369\n",
      "29) power_T_Beta3                  0.024715\n",
      "30) power_C_Theta                  0.024249\n",
      "31) power_PO_Beta3                 0.024108\n",
      "32) power_T_Beta2                  0.023914\n"
     ]
    },
    {
     "data": {
      "image/png": "[encoded data removed]",
      "text/plain": [
       "<Figure size 640x480 with 1 Axes>"
      ]
     },
     "metadata": {},
     "output_type": "display_data"
    }
   ],
   "source": [
    "forestclf.fit(X_train_roi_g1_g2, y_train_roi_g1_g2)\n",
    "features_scores = forestclf.feature_importances_\n",
    "features_scores\n",
    "index = np.argsort(features_scores)[::-1]\n",
    "\n",
    "\n",
    "for f in range(X_train_roi_g1_g2.shape[1]):\n",
    "\n",
    "    print(\"%2d) %-*s %f\" % (f + 1, 30,\n",
    "                        nombres_columnas[index[f]],\n",
    "                        features_scores[index[f]]))\n",
    "\n",
    "plt.title('Importancia de la caracteristica')\n",
    "\n",
    "plt.bar(range(X_train_roi_g1_g2.shape[1]),\n",
    "    features_scores[index],\n",
    "    align='center')\n",
    "\n",
    "plt.xticks(range(X_train_roi_g1_g2.shape[1]),\n",
    "    nombres_columnas,\n",
    "    rotation=90)\n",
    "\n",
    "plt.xlim([-1, X_train_roi_g1_g2.shape[1]])\n",
    "\n",
    "plt.tight_layout()\n",
    "\n",
    "plt.show()"
   ]
  },
  {
   "cell_type": "code",
   "execution_count": 248,
   "metadata": {},
   "outputs": [],
   "source": [
    "nombres_columnas = power_data_com_g1_g2.columns[:-1]"
   ]
  },
  {
   "cell_type": "code",
   "execution_count": 249,
   "metadata": {},
   "outputs": [],
   "source": [
    "X_train_com_g1_g2, X_test_com_g1_g2, y_train_com_g1_g2, y_test_com_g1_g2 = train_test_split(\n",
    "    power_data_com_g1_g2.values[:,:-1],\n",
    "    power_data_com_g1_g2.values[:,-1],\n",
    "    test_size=0.2,\n",
    "    random_state=1,\n",
    "    stratify=power_data_com_g1_g2.values[:,-1])"
   ]
  },
  {
   "cell_type": "code",
   "execution_count": 250,
   "metadata": {},
   "outputs": [
    {
     "name": "stdout",
     "output_type": "stream",
     "text": [
      " 1) power_C23_Beta1                0.046267\n",
      " 2) power_C15_Beta3                0.032896\n",
      " 3) power_C14_Beta3                0.027483\n",
      " 4) power_C24_Beta1                0.026866\n",
      " 5) power_C23_Alpha-2              0.026188\n",
      " 6) power_C22_Delta                0.023423\n",
      " 7) power_C25_Delta                0.021487\n",
      " 8) power_C18_Beta3                0.021306\n",
      " 9) power_C23_Delta                0.019663\n",
      "10) power_C24_Gamma                0.019196\n",
      "11) power_C23_Gamma                0.018792\n",
      "12) power_C24_Theta                0.018559\n",
      "13) power_C23_Beta2                0.018362\n",
      "14) power_C24_Alpha-1              0.018206\n",
      "15) power_C14_Beta1                0.017937\n",
      "16) power_C18_Gamma                0.017628\n",
      "17) power_C18_Beta2                0.017543\n",
      "18) power_C15_Alpha-2              0.016757\n",
      "19) power_C24_Alpha-2              0.016670\n",
      "20) power_C20_Delta                0.016224\n",
      "21) power_C23_Alpha-1              0.016123\n",
      "22) power_C18_Beta1                0.015531\n",
      "23) power_C22_Beta3                0.015523\n",
      "24) power_C22_Gamma                0.015203\n",
      "25) power_C15_Gamma                0.014956\n",
      "26) power_C15_Beta1                0.014912\n",
      "27) power_C25_Theta                0.014888\n",
      "28) power_C20_Beta2                0.014839\n",
      "29) power_C25_Beta1                0.014810\n",
      "30) power_C22_Alpha-1              0.014799\n",
      "31) power_C22_Beta1                0.014625\n",
      "32) power_C23_Theta                0.014402\n",
      "33) power_C24_Delta                0.014359\n",
      "34) power_C20_Theta                0.014012\n",
      "35) power_C24_Beta3                0.013942\n",
      "36) power_C22_Alpha-2              0.013881\n",
      "37) power_C14_Gamma                0.013880\n",
      "38) power_C25_Alpha-1              0.013447\n",
      "39) power_C15_Theta                0.013056\n",
      "40) power_C23_Beta3                0.012915\n",
      "41) power_C15_Beta2                0.012852\n",
      "42) power_C14_Beta2                0.012828\n",
      "43) power_C25_Beta3                0.012472\n",
      "44) power_C20_Beta3                0.012352\n",
      "45) power_C18_Alpha-2              0.012242\n",
      "46) power_C15_Alpha-1              0.012071\n",
      "47) power_C14_Alpha-1              0.011971\n",
      "48) power_C25_Gamma                0.011777\n",
      "49) power_C20_Alpha-2              0.011703\n",
      "50) power_C25_Alpha-2              0.011493\n",
      "51) power_C22_Beta2                0.011409\n",
      "52) power_C18_Alpha-1              0.011148\n",
      "53) power_C18_Delta                0.011051\n",
      "54) power_C14_Delta                0.010954\n",
      "55) power_C15_Delta                0.010916\n",
      "56) power_C20_Gamma                0.010671\n",
      "57) power_C20_Beta1                0.010577\n",
      "58) power_C18_Theta                0.010483\n",
      "59) power_C24_Beta2                0.010264\n",
      "60) power_C20_Alpha-1              0.010226\n",
      "61) power_C14_Alpha-2              0.010222\n",
      "62) power_C25_Beta2                0.009768\n",
      "63) power_C14_Theta                0.009706\n",
      "64) power_C22_Theta                0.009285\n"
     ]
    },
    {
     "data": {
      "image/png": "[encoded data removed]",
      "text/plain": [
       "<Figure size 640x480 with 1 Axes>"
      ]
     },
     "metadata": {},
     "output_type": "display_data"
    }
   ],
   "source": [
    "forestclf.fit(X_train_com_g1_g2, y_train_com_g1_g2)\n",
    "features_scores = forestclf.feature_importances_\n",
    "features_scores\n",
    "index = np.argsort(features_scores)[::-1]\n",
    "\n",
    "\n",
    "for f in range(X_train_com_g1_g2.shape[1]):\n",
    "\n",
    "    print(\"%2d) %-*s %f\" % (f + 1, 30,\n",
    "                        nombres_columnas[index[f]],\n",
    "                        features_scores[index[f]]))\n",
    "\n",
    "plt.title('Importancia de la caracteristica')\n",
    "\n",
    "plt.bar(range(X_train_com_g1_g2.shape[1]),\n",
    "    features_scores[index],\n",
    "    align='center')\n",
    "\n",
    "#plt.xticks(range(X_train_com_ctr_dta.shape[1]),\n",
    "#    nombres_columnas,\n",
    "#    rotation=90)\n",
    "\n",
    "plt.xlim([-1, X_train_com_g1_g2.shape[1]])\n",
    "\n",
    "plt.tight_layout()\n",
    "\n",
    "plt.show()"
   ]
  },
  {
   "attachments": {},
   "cell_type": "markdown",
   "metadata": {},
   "source": [
    "# Entrenamiento de máquinas de soporte vectorial (potencias)"
   ]
  },
  {
   "attachments": {},
   "cell_type": "markdown",
   "metadata": {},
   "source": [
    "## Maquinas de soporte vectorial de clasificación multiclase"
   ]
  },
  {
   "cell_type": "code",
   "execution_count": 251,
   "metadata": {},
   "outputs": [],
   "source": [
    "supvm = SVC(C=10, random_state=1)"
   ]
  },
  {
   "cell_type": "code",
   "execution_count": 252,
   "metadata": {},
   "outputs": [
    {
     "data": {
      "text/plain": [
       "SVC(C=10, random_state=1)"
      ]
     },
     "execution_count": 252,
     "metadata": {},
     "output_type": "execute_result"
    }
   ],
   "source": [
    "supvm.fit(X_train_roi, y_train_roi)"
   ]
  },
  {
   "cell_type": "code",
   "execution_count": 253,
   "metadata": {},
   "outputs": [],
   "source": [
    "predicted = supvm.predict(X_test_roi)"
   ]
  },
  {
   "cell_type": "code",
   "execution_count": 254,
   "metadata": {},
   "outputs": [
    {
     "name": "stdout",
     "output_type": "stream",
     "text": [
      "Classification report for classifier SVC(C=10, random_state=1):\n",
      "              precision    recall  f1-score   support\n",
      "\n",
      "         0.0       0.75      0.94      0.84        71\n",
      "         1.0       1.00      0.80      0.89         5\n",
      "         2.0       0.61      0.56      0.58        25\n",
      "         3.0       0.79      0.38      0.51        29\n",
      "\n",
      "    accuracy                           0.74       130\n",
      "   macro avg       0.79      0.67      0.71       130\n",
      "weighted avg       0.74      0.74      0.72       130\n",
      "\n",
      "\n"
     ]
    }
   ],
   "source": [
    "print(\n",
    "    f\"Classification report for classifier {supvm}:\\n\"\n",
    "    f\"{metrics.classification_report(y_test_roi, predicted)}\\n\"\n",
    ")"
   ]
  },
  {
   "cell_type": "code",
   "execution_count": 255,
   "metadata": {},
   "outputs": [
    {
     "data": {
      "image/png": "[encoded data removed]",
      "text/plain": [
       "<Figure size 640x480 with 2 Axes>"
      ]
     },
     "metadata": {},
     "output_type": "display_data"
    },
    {
     "name": "stdout",
     "output_type": "stream",
     "text": [
      "Confusion matrix:\n",
      "[[67  0  3  1]\n",
      " [ 1  4  0  0]\n",
      " [ 9  0 14  2]\n",
      " [12  0  6 11]]\n"
     ]
    }
   ],
   "source": [
    "disp = metrics.ConfusionMatrixDisplay.from_predictions(y_test_roi, predicted)\n",
    "disp.figure_.suptitle(\"Confusion Matrix\")\n",
    "plt.show()\n",
    "print(f\"Confusion matrix:\\n{disp.confusion_matrix}\")"
   ]
  },
  {
   "cell_type": "code",
   "execution_count": 256,
   "metadata": {},
   "outputs": [
    {
     "data": {
      "text/plain": [
       "SVC(C=10, random_state=1)"
      ]
     },
     "execution_count": 256,
     "metadata": {},
     "output_type": "execute_result"
    }
   ],
   "source": [
    "supvm.fit(X_train_com, y_train_com)"
   ]
  },
  {
   "cell_type": "code",
   "execution_count": 257,
   "metadata": {},
   "outputs": [],
   "source": [
    "predicted = supvm.predict(X_test_com)"
   ]
  },
  {
   "cell_type": "code",
   "execution_count": 258,
   "metadata": {},
   "outputs": [
    {
     "name": "stdout",
     "output_type": "stream",
     "text": [
      "Classification report for classifier SVC(C=10, random_state=1):\n",
      "              precision    recall  f1-score   support\n",
      "\n",
      "         0.0       0.77      0.89      0.82        70\n",
      "         1.0       0.67      0.33      0.44         6\n",
      "         2.0       0.68      0.52      0.59        25\n",
      "         3.0       0.67      0.62      0.64        29\n",
      "\n",
      "    accuracy                           0.73       130\n",
      "   macro avg       0.70      0.59      0.62       130\n",
      "weighted avg       0.72      0.73      0.72       130\n",
      "\n",
      "\n"
     ]
    }
   ],
   "source": [
    "print(\n",
    "    f\"Classification report for classifier {supvm}:\\n\"\n",
    "    f\"{metrics.classification_report(y_test_com, predicted)}\\n\"\n",
    ")"
   ]
  },
  {
   "cell_type": "code",
   "execution_count": 259,
   "metadata": {},
   "outputs": [
    {
     "name": "stdout",
     "output_type": "stream",
     "text": [
      "Confusion matrix:\n",
      "[[62  0  4  4]\n",
      " [ 3  2  0  1]\n",
      " [ 8  0 13  4]\n",
      " [ 8  1  2 18]]\n"
     ]
    },
    {
     "data": {
      "image/png": "[encoded data removed]",
      "text/plain": [
       "<Figure size 640x480 with 2 Axes>"
      ]
     },
     "metadata": {},
     "output_type": "display_data"
    }
   ],
   "source": [
    "disp = metrics.ConfusionMatrixDisplay.from_predictions(y_test_com, predicted)\n",
    "disp.figure_.suptitle(\"Confusion Matrix\")\n",
    "print(f\"Confusion matrix:\\n{disp.confusion_matrix}\")\n",
    "\n",
    "plt.show()"
   ]
  },
  {
   "attachments": {},
   "cell_type": "markdown",
   "metadata": {},
   "source": [
    "## Maquinas de soporte vectorial de clasificación binaria"
   ]
  },
  {
   "attachments": {},
   "cell_type": "markdown",
   "metadata": {},
   "source": [
    "### Controles vs. DTA"
   ]
  },
  {
   "cell_type": "code",
   "execution_count": 260,
   "metadata": {},
   "outputs": [
    {
     "data": {
      "text/plain": [
       "SVC(C=10, random_state=1)"
      ]
     },
     "execution_count": 260,
     "metadata": {},
     "output_type": "execute_result"
    }
   ],
   "source": [
    "supvm.fit(X_train_roi_ctr_dta, y_train_roi_ctr_dta)"
   ]
  },
  {
   "cell_type": "code",
   "execution_count": 261,
   "metadata": {},
   "outputs": [],
   "source": [
    "predicted = supvm.predict(X_test_roi_ctr_dta)"
   ]
  },
  {
   "cell_type": "code",
   "execution_count": 262,
   "metadata": {},
   "outputs": [
    {
     "name": "stdout",
     "output_type": "stream",
     "text": [
      "Classification report for classifier SVC(C=10, random_state=1):\n",
      "              precision    recall  f1-score   support\n",
      "\n",
      "         0.0       1.00      1.00      1.00        71\n",
      "         1.0       1.00      1.00      1.00         5\n",
      "\n",
      "    accuracy                           1.00        76\n",
      "   macro avg       1.00      1.00      1.00        76\n",
      "weighted avg       1.00      1.00      1.00        76\n",
      "\n",
      "\n"
     ]
    }
   ],
   "source": [
    "print(\n",
    "    f\"Classification report for classifier {supvm}:\\n\"\n",
    "    f\"{metrics.classification_report(y_test_roi_ctr_dta, predicted)}\\n\"\n",
    ")"
   ]
  },
  {
   "cell_type": "code",
   "execution_count": 263,
   "metadata": {},
   "outputs": [
    {
     "name": "stdout",
     "output_type": "stream",
     "text": [
      "Confusion matrix:\n",
      "[[71  0]\n",
      " [ 0  5]]\n"
     ]
    },
    {
     "data": {
      "image/png": "[encoded data removed]",
      "text/plain": [
       "<Figure size 640x480 with 2 Axes>"
      ]
     },
     "metadata": {},
     "output_type": "display_data"
    }
   ],
   "source": [
    "disp = metrics.ConfusionMatrixDisplay.from_predictions(y_test_roi_ctr_dta, predicted)\n",
    "disp.figure_.suptitle(\"Confusion Matrix\")\n",
    "print(f\"Confusion matrix:\\n{disp.confusion_matrix}\")\n",
    "\n",
    "plt.show()"
   ]
  },
  {
   "cell_type": "code",
   "execution_count": 264,
   "metadata": {},
   "outputs": [],
   "source": [
    "plt.show()"
   ]
  },
  {
   "cell_type": "code",
   "execution_count": 265,
   "metadata": {},
   "outputs": [
    {
     "data": {
      "text/plain": [
       "SVC(C=10, random_state=1)"
      ]
     },
     "execution_count": 265,
     "metadata": {},
     "output_type": "execute_result"
    }
   ],
   "source": [
    "supvm.fit(X_train_com_ctr_dta, y_train_com_ctr_dta)"
   ]
  },
  {
   "cell_type": "code",
   "execution_count": 266,
   "metadata": {},
   "outputs": [],
   "source": [
    "predicted = supvm.predict(X_test_com_ctr_dta)"
   ]
  },
  {
   "cell_type": "code",
   "execution_count": 267,
   "metadata": {},
   "outputs": [
    {
     "name": "stdout",
     "output_type": "stream",
     "text": [
      "Classification report for classifier SVC(C=10, random_state=1):\n",
      "              precision    recall  f1-score   support\n",
      "\n",
      "         0.0       0.97      0.96      0.96        70\n",
      "         1.0       0.57      0.67      0.62         6\n",
      "\n",
      "    accuracy                           0.93        76\n",
      "   macro avg       0.77      0.81      0.79        76\n",
      "weighted avg       0.94      0.93      0.94        76\n",
      "\n",
      "\n"
     ]
    }
   ],
   "source": [
    "print(\n",
    "    f\"Classification report for classifier {supvm}:\\n\"\n",
    "    f\"{metrics.classification_report(y_test_com_ctr_dta, predicted)}\\n\"\n",
    ")"
   ]
  },
  {
   "cell_type": "code",
   "execution_count": 268,
   "metadata": {},
   "outputs": [
    {
     "name": "stdout",
     "output_type": "stream",
     "text": [
      "Confusion matrix:\n",
      "[[67  3]\n",
      " [ 2  4]]\n"
     ]
    },
    {
     "data": {
      "image/png": "[encoded data removed]",
      "text/plain": [
       "<Figure size 640x480 with 2 Axes>"
      ]
     },
     "metadata": {},
     "output_type": "display_data"
    }
   ],
   "source": [
    "disp = metrics.ConfusionMatrixDisplay.from_predictions(y_test_com_ctr_dta, predicted)\n",
    "disp.figure_.suptitle(\"Confusion Matrix\")\n",
    "print(f\"Confusion matrix:\\n{disp.confusion_matrix}\")\n",
    "\n",
    "plt.show()"
   ]
  },
  {
   "attachments": {},
   "cell_type": "markdown",
   "metadata": {},
   "source": [
    "### G1 vs. G2"
   ]
  },
  {
   "cell_type": "code",
   "execution_count": 269,
   "metadata": {},
   "outputs": [
    {
     "data": {
      "text/plain": [
       "SVC(C=10, random_state=1)"
      ]
     },
     "execution_count": 269,
     "metadata": {},
     "output_type": "execute_result"
    }
   ],
   "source": [
    "supvm.fit(X_train_roi_g1_g2, y_train_roi_g1_g2)"
   ]
  },
  {
   "cell_type": "code",
   "execution_count": 270,
   "metadata": {},
   "outputs": [],
   "source": [
    "predicted = supvm.predict(X_test_roi_g1_g2)"
   ]
  },
  {
   "cell_type": "code",
   "execution_count": 271,
   "metadata": {},
   "outputs": [
    {
     "name": "stdout",
     "output_type": "stream",
     "text": [
      "Classification report for classifier SVC(C=10, random_state=1):\n",
      "              precision    recall  f1-score   support\n",
      "\n",
      "         2.0       0.78      0.72      0.75        25\n",
      "         3.0       0.77      0.83      0.80        29\n",
      "\n",
      "    accuracy                           0.78        54\n",
      "   macro avg       0.78      0.77      0.77        54\n",
      "weighted avg       0.78      0.78      0.78        54\n",
      "\n",
      "\n"
     ]
    }
   ],
   "source": [
    "print(\n",
    "    f\"Classification report for classifier {supvm}:\\n\"\n",
    "    f\"{metrics.classification_report(y_test_roi_g1_g2, predicted)}\\n\"\n",
    ")"
   ]
  },
  {
   "cell_type": "code",
   "execution_count": 272,
   "metadata": {},
   "outputs": [
    {
     "name": "stdout",
     "output_type": "stream",
     "text": [
      "Confusion matrix:\n",
      "[[18  7]\n",
      " [ 5 24]]\n"
     ]
    },
    {
     "data": {
      "image/png": "[encoded data removed]",
      "text/plain": [
       "<Figure size 640x480 with 2 Axes>"
      ]
     },
     "metadata": {},
     "output_type": "display_data"
    }
   ],
   "source": [
    "disp = metrics.ConfusionMatrixDisplay.from_predictions(y_test_roi_g1_g2, predicted)\n",
    "disp.figure_.suptitle(\"Confusion Matrix\")\n",
    "print(f\"Confusion matrix:\\n{disp.confusion_matrix}\")\n",
    "\n",
    "plt.show()"
   ]
  },
  {
   "cell_type": "code",
   "execution_count": 273,
   "metadata": {},
   "outputs": [
    {
     "data": {
      "text/plain": [
       "SVC(C=10, random_state=1)"
      ]
     },
     "execution_count": 273,
     "metadata": {},
     "output_type": "execute_result"
    }
   ],
   "source": [
    "supvm.fit(X_train_com_g1_g2, y_train_com_g1_g2)"
   ]
  },
  {
   "cell_type": "code",
   "execution_count": 274,
   "metadata": {},
   "outputs": [],
   "source": [
    "predicted = supvm.predict(X_test_com_g1_g2)"
   ]
  },
  {
   "cell_type": "code",
   "execution_count": 275,
   "metadata": {},
   "outputs": [
    {
     "name": "stdout",
     "output_type": "stream",
     "text": [
      "Classification report for classifier SVC(C=10, random_state=1):\n",
      "              precision    recall  f1-score   support\n",
      "\n",
      "         2.0       0.73      0.88      0.80        25\n",
      "         3.0       0.88      0.72      0.79        29\n",
      "\n",
      "    accuracy                           0.80        54\n",
      "   macro avg       0.80      0.80      0.80        54\n",
      "weighted avg       0.81      0.80      0.80        54\n",
      "\n",
      "\n"
     ]
    }
   ],
   "source": [
    "print(\n",
    "    f\"Classification report for classifier {supvm}:\\n\"\n",
    "    f\"{metrics.classification_report(y_test_com_g1_g2, predicted)}\\n\"\n",
    ")"
   ]
  },
  {
   "cell_type": "code",
   "execution_count": 276,
   "metadata": {},
   "outputs": [
    {
     "name": "stdout",
     "output_type": "stream",
     "text": [
      "Confusion matrix:\n",
      "[[22  3]\n",
      " [ 8 21]]\n"
     ]
    },
    {
     "data": {
      "image/png": "[encoded data removed]",
      "text/plain": [
       "<Figure size 640x480 with 2 Axes>"
      ]
     },
     "metadata": {},
     "output_type": "display_data"
    }
   ],
   "source": [
    "disp = metrics.ConfusionMatrixDisplay.from_predictions(y_test_com_g1_g2, predicted)\n",
    "disp.figure_.suptitle(\"Confusion Matrix\")\n",
    "print(f\"Confusion matrix:\\n{disp.confusion_matrix}\")\n",
    "\n",
    "plt.show()"
   ]
  },
  {
   "cell_type": "code",
   "execution_count": 277,
   "metadata": {},
   "outputs": [],
   "source": [
    "# Netrenamiento con todas las caracteristicas númericas\n",
    "\n",
    "numerics = ['int16', 'int32', 'int64', 'float16', 'float32', 'float64']\n",
    "\n",
    "data_roi_allf = data_roi.select_dtypes(include=numerics)\n",
    "\n",
    "data_com_allf = data_com.select_dtypes(include=numerics)"
   ]
  },
  {
   "cell_type": "code",
   "execution_count": 278,
   "metadata": {},
   "outputs": [],
   "source": [
    "data_roi_allf['group'] = data_roi['group']\n",
    "data_com_allf['group'] = data_com['group']"
   ]
  },
  {
   "cell_type": "code",
   "execution_count": 279,
   "metadata": {},
   "outputs": [],
   "source": [
    "data_roi_allf['group'] =data_roi_allf['group'].map(clases_mapeadas) \n",
    "data_com_allf['group'] = data_com_allf['group'].map(clases_mapeadas)"
   ]
  },
  {
   "cell_type": "code",
   "execution_count": 280,
   "metadata": {},
   "outputs": [],
   "source": [
    "X_train_roiall, X_test_roiall, y_train_roiall, y_test_roiall = train_test_split(\n",
    "    data_roi_allf.values[:,:-1],\n",
    "    data_roi_allf.values[:,-1],\n",
    "    test_size=0.2,\n",
    "    random_state=1,\n",
    "    stratify=data_roi_allf.values[:,-1])"
   ]
  },
  {
   "cell_type": "code",
   "execution_count": 281,
   "metadata": {},
   "outputs": [],
   "source": [
    "supvm = SVC(C=10, random_state=1)"
   ]
  },
  {
   "cell_type": "code",
   "execution_count": 282,
   "metadata": {},
   "outputs": [
    {
     "data": {
      "text/plain": [
       "(array([  0,   0,   0,   3,   3,   3,   5,   5,   6,   6,   9,   9,   9,\n",
       "         12,  12,  12,  13,  13,  15,  15,  15,  16,  16,  16,  18,  18,\n",
       "         18,  19,  19,  19,  20,  20,  20,  21,  21,  22,  22,  22,  27,\n",
       "         27,  27,  29,  29,  29,  31,  31,  31,  33,  33,  33,  34,  34,\n",
       "         34,  35,  35,  35,  37,  37,  37,  38,  38,  40,  40,  40,  41,\n",
       "         41,  42,  42,  42,  43,  43,  43,  44,  44,  44,  45,  45,  48,\n",
       "         48,  48,  49,  49,  49,  50,  50,  50,  52,  52,  52,  53,  53,\n",
       "         53,  55,  55,  55,  56,  56,  56,  58,  58,  62,  62,  62,  64,\n",
       "         64,  65,  65,  65,  66,  66,  67,  67,  69,  69,  69,  71,  71,\n",
       "         72,  72,  72,  73,  73,  73,  75,  75,  75,  77,  77,  79,  79,\n",
       "         79,  82,  82,  83,  83,  83,  85,  85,  85,  86,  86,  86,  91,\n",
       "         91,  92,  92,  92,  95,  95,  95,  96,  96,  97,  97,  97,  98,\n",
       "         98,  98,  99,  99,  99, 100, 100, 100, 101, 101, 102, 102, 102,\n",
       "        103, 103, 103, 104, 104, 105, 105, 105, 109, 109, 109, 111, 111,\n",
       "        111, 112, 112, 112, 115, 115, 115, 120, 120, 120, 121, 121, 122,\n",
       "        122, 122, 123, 123, 124, 124, 126, 126, 126, 127, 127, 127, 128,\n",
       "        128, 130, 130, 131, 131, 134, 134, 134, 136, 136, 138, 138, 138,\n",
       "        143, 143, 143, 144, 144, 144, 146, 146, 146, 148, 148, 149, 149,\n",
       "        149, 150, 150, 150, 151, 151, 151, 152, 152, 152, 153, 153, 159,\n",
       "        159, 160, 160, 161, 161, 161, 165, 165, 165, 166, 166, 167, 167,\n",
       "        167, 169, 169, 169, 170, 170, 170, 171, 171, 171, 172, 172, 172,\n",
       "        176, 176, 176, 177, 177, 177, 181, 181, 183, 183, 183, 184, 184,\n",
       "        186, 186, 186, 187, 187, 188, 188, 190, 190, 191, 191, 192, 192,\n",
       "        193, 193, 200, 200, 200, 201, 201, 201, 202, 202, 202, 203, 203,\n",
       "        203, 204, 204, 204, 206, 206, 206, 207, 207, 207, 208, 208, 208,\n",
       "        209, 209, 211, 211, 212, 212, 213, 213, 213, 214, 214, 214, 216,\n",
       "        216, 217, 217, 218, 218, 218, 221, 221, 221, 222, 222, 222, 224,\n",
       "        224, 226, 226, 226, 227, 227, 227, 228, 228, 228, 231, 231, 234,\n",
       "        234, 234, 237, 237, 238, 238, 238, 240, 240, 241, 241, 241, 243,\n",
       "        243, 243, 246, 246, 246, 254, 254, 255, 255, 255, 260, 260, 262,\n",
       "        262, 265, 265, 265, 267, 267, 268, 268, 270, 270, 271, 271, 274,\n",
       "        274, 275, 275, 276, 276, 278, 278, 281, 281, 281, 282, 282, 283,\n",
       "        283, 283, 284, 284, 285, 285, 286, 286, 286, 287, 287, 287, 291,\n",
       "        291, 292, 292, 292, 293, 293, 294, 294, 295, 295, 297, 297, 297,\n",
       "        299, 299, 299, 303, 303, 303, 304, 304, 309, 309, 309, 311, 311,\n",
       "        311, 312, 312, 312, 313, 313, 314, 314, 314, 316, 316, 317, 317,\n",
       "        317, 318, 318, 318, 319, 319, 319, 320, 320, 320, 324, 324, 325,\n",
       "        325, 325, 328, 328, 329, 329, 330, 330, 330, 331, 331, 333, 333,\n",
       "        333, 334, 334, 334, 336, 336, 336, 338, 338, 340, 340, 340, 341,\n",
       "        341, 341, 347, 347, 347, 348, 348, 349, 349, 349, 350, 350, 352,\n",
       "        352, 357, 357, 358, 358, 359, 359, 359, 364, 364, 364, 365, 365,\n",
       "        370, 370, 370, 371, 371, 376, 376, 376, 379, 379, 379, 380, 380,\n",
       "        380, 381, 381, 381, 384, 384, 384, 388, 388, 388, 389, 389, 389,\n",
       "        390, 390, 390, 394, 394, 395, 395, 396, 396, 396, 399, 399, 399,\n",
       "        401, 401, 403, 403, 405, 405, 405, 406, 406, 407, 407, 407, 411,\n",
       "        411, 412, 412, 412, 413, 413, 413, 414, 414, 414, 415, 415, 415,\n",
       "        419, 419, 420, 420, 421, 421, 421, 422, 422, 425, 425, 425, 426,\n",
       "        426, 426, 431, 431, 432, 432, 432, 433, 433, 433, 434, 434, 434,\n",
       "        435, 435, 435, 437, 437, 437, 441, 441, 441, 444, 444, 445, 445,\n",
       "        445, 447, 447, 448, 448, 449, 449, 450, 450, 451, 451, 452, 452,\n",
       "        452, 455, 455, 455, 457, 457, 457, 459, 459, 460, 460, 463, 463,\n",
       "        463, 465, 465, 466, 466, 468, 468, 468, 469, 469, 469, 475, 475,\n",
       "        476, 476, 476, 477, 477, 480, 480, 480, 483, 483, 483, 486, 486,\n",
       "        489, 489, 489, 492, 492, 492, 499, 499, 499, 505, 505, 507, 507,\n",
       "        507, 509, 509, 510, 510, 511, 511, 511, 512, 512, 512, 513, 513,\n",
       "        513, 516, 516, 516], dtype=int64),\n",
       " array([33, 34, 35, 33, 34, 35, 36, 37, 36, 37, 33, 34, 35, 33, 34, 35, 36,\n",
       "        37, 33, 34, 35, 33, 34, 35, 33, 34, 35, 33, 34, 35, 33, 34, 35, 36,\n",
       "        37, 33, 34, 35, 33, 34, 35, 33, 34, 35, 33, 34, 35, 33, 34, 35, 33,\n",
       "        34, 35, 33, 34, 35, 33, 34, 35, 36, 37, 33, 34, 35, 36, 37, 33, 34,\n",
       "        35, 33, 34, 35, 33, 34, 35, 36, 37, 33, 34, 35, 33, 34, 35, 33, 34,\n",
       "        35, 33, 34, 35, 33, 34, 35, 33, 34, 35, 33, 34, 35, 36, 37, 33, 34,\n",
       "        35, 36, 37, 33, 34, 35, 36, 37, 36, 37, 33, 34, 35, 36, 37, 33, 34,\n",
       "        35, 33, 34, 35, 33, 34, 35, 36, 37, 33, 34, 35, 36, 37, 33, 34, 35,\n",
       "        33, 34, 35, 33, 34, 35, 36, 37, 33, 34, 35, 33, 34, 35, 36, 37, 33,\n",
       "        34, 35, 33, 34, 35, 33, 34, 35, 33, 34, 35, 36, 37, 33, 34, 35, 33,\n",
       "        34, 35, 36, 37, 33, 34, 35, 33, 34, 35, 33, 34, 35, 33, 34, 35, 33,\n",
       "        34, 35, 33, 34, 35, 36, 37, 33, 34, 35, 36, 37, 36, 37, 33, 34, 35,\n",
       "        33, 34, 35, 36, 37, 36, 37, 36, 37, 33, 34, 35, 36, 37, 33, 34, 35,\n",
       "        33, 34, 35, 33, 34, 35, 33, 34, 35, 36, 37, 33, 34, 35, 33, 34, 35,\n",
       "        33, 34, 35, 33, 34, 35, 36, 37, 36, 37, 36, 37, 33, 34, 35, 33, 34,\n",
       "        35, 36, 37, 33, 34, 35, 33, 34, 35, 33, 34, 35, 33, 34, 35, 33, 34,\n",
       "        35, 33, 34, 35, 33, 34, 35, 36, 37, 33, 34, 35, 36, 37, 33, 34, 35,\n",
       "        36, 37, 36, 37, 36, 37, 36, 37, 36, 37, 36, 37, 33, 34, 35, 33, 34,\n",
       "        35, 33, 34, 35, 33, 34, 35, 33, 34, 35, 33, 34, 35, 33, 34, 35, 33,\n",
       "        34, 35, 36, 37, 36, 37, 36, 37, 33, 34, 35, 33, 34, 35, 36, 37, 36,\n",
       "        37, 33, 34, 35, 33, 34, 35, 33, 34, 35, 36, 37, 33, 34, 35, 33, 34,\n",
       "        35, 33, 34, 35, 36, 37, 33, 34, 35, 36, 37, 33, 34, 35, 36, 37, 33,\n",
       "        34, 35, 33, 34, 35, 33, 34, 35, 36, 37, 33, 34, 35, 36, 37, 36, 37,\n",
       "        33, 34, 35, 36, 37, 36, 37, 36, 37, 36, 37, 36, 37, 36, 37, 36, 37,\n",
       "        36, 37, 33, 34, 35, 36, 37, 33, 34, 35, 36, 37, 36, 37, 33, 34, 35,\n",
       "        33, 34, 35, 36, 37, 33, 34, 35, 36, 37, 36, 37, 36, 37, 33, 34, 35,\n",
       "        33, 34, 35, 33, 34, 35, 36, 37, 33, 34, 35, 33, 34, 35, 33, 34, 35,\n",
       "        36, 37, 33, 34, 35, 36, 37, 33, 34, 35, 33, 34, 35, 33, 34, 35, 33,\n",
       "        34, 35, 36, 37, 33, 34, 35, 36, 37, 36, 37, 33, 34, 35, 36, 37, 33,\n",
       "        34, 35, 33, 34, 35, 33, 34, 35, 36, 37, 33, 34, 35, 33, 34, 35, 33,\n",
       "        34, 35, 36, 37, 33, 34, 35, 36, 37, 36, 37, 36, 37, 36, 37, 33, 34,\n",
       "        35, 33, 34, 35, 36, 37, 33, 34, 35, 36, 37, 33, 34, 35, 33, 34, 35,\n",
       "        33, 34, 35, 33, 34, 35, 33, 34, 35, 33, 34, 35, 33, 34, 35, 33, 34,\n",
       "        35, 36, 37, 36, 37, 33, 34, 35, 33, 34, 35, 36, 37, 36, 37, 33, 34,\n",
       "        35, 36, 37, 33, 34, 35, 36, 37, 33, 34, 35, 33, 34, 35, 33, 34, 35,\n",
       "        33, 34, 35, 36, 37, 36, 37, 33, 34, 35, 36, 37, 33, 34, 35, 33, 34,\n",
       "        35, 36, 37, 33, 34, 35, 33, 34, 35, 33, 34, 35, 33, 34, 35, 33, 34,\n",
       "        35, 33, 34, 35, 36, 37, 33, 34, 35, 36, 37, 36, 37, 36, 37, 36, 37,\n",
       "        36, 37, 33, 34, 35, 33, 34, 35, 33, 34, 35, 36, 37, 36, 37, 33, 34,\n",
       "        35, 36, 37, 36, 37, 33, 34, 35, 33, 34, 35, 36, 37, 33, 34, 35, 36,\n",
       "        37, 33, 34, 35, 33, 34, 35, 36, 37, 33, 34, 35, 33, 34, 35, 33, 34,\n",
       "        35, 36, 37, 33, 34, 35, 36, 37, 36, 37, 33, 34, 35, 33, 34, 35, 33,\n",
       "        34, 35, 33, 34, 35], dtype=int64))"
      ]
     },
     "execution_count": 282,
     "metadata": {},
     "output_type": "execute_result"
    }
   ],
   "source": [
    "np.where(np.isnan(X_train_roiall))"
   ]
  },
  {
   "cell_type": "code",
   "execution_count": 283,
   "metadata": {},
   "outputs": [],
   "source": [
    "X_train_roiall=np.nan_to_num(X_train_roiall)\n",
    "X_test_roiall=np.nan_to_num(X_test_roiall)"
   ]
  },
  {
   "cell_type": "code",
   "execution_count": 284,
   "metadata": {},
   "outputs": [
    {
     "data": {
      "text/plain": [
       "(array([], dtype=int64), array([], dtype=int64))"
      ]
     },
     "execution_count": 284,
     "metadata": {},
     "output_type": "execute_result"
    }
   ],
   "source": [
    "np.where(np.isnan(X_train_roiall))\n",
    "np.where(np.isnan(X_test_roiall))"
   ]
  },
  {
   "cell_type": "code",
   "execution_count": 285,
   "metadata": {},
   "outputs": [
    {
     "data": {
      "text/plain": [
       "SVC(C=10, random_state=1)"
      ]
     },
     "execution_count": 285,
     "metadata": {},
     "output_type": "execute_result"
    }
   ],
   "source": [
    "supvm.fit(X_train_roiall, y_train_roiall)"
   ]
  },
  {
   "cell_type": "code",
   "execution_count": 286,
   "metadata": {},
   "outputs": [],
   "source": [
    "predicted = supvm.predict(X_test_roiall)"
   ]
  },
  {
   "cell_type": "code",
   "execution_count": 287,
   "metadata": {},
   "outputs": [
    {
     "name": "stdout",
     "output_type": "stream",
     "text": [
      "Classification report for classifier SVC(C=10, random_state=1):\n",
      "              precision    recall  f1-score   support\n",
      "\n",
      "         0.0       0.63      1.00      0.77        71\n",
      "         1.0       0.00      0.00      0.00         5\n",
      "         2.0       0.00      0.00      0.00        25\n",
      "         3.0       0.71      0.41      0.52        29\n",
      "\n",
      "    accuracy                           0.64       130\n",
      "   macro avg       0.33      0.35      0.32       130\n",
      "weighted avg       0.50      0.64      0.54       130\n",
      "\n",
      "\n"
     ]
    },
    {
     "name": "stderr",
     "output_type": "stream",
     "text": [
      "c:\\Users\\veroh\\anaconda3\\lib\\site-packages\\sklearn\\metrics\\_classification.py:1318: UndefinedMetricWarning: Precision and F-score are ill-defined and being set to 0.0 in labels with no predicted samples. Use `zero_division` parameter to control this behavior.\n",
      "  _warn_prf(average, modifier, msg_start, len(result))\n",
      "c:\\Users\\veroh\\anaconda3\\lib\\site-packages\\sklearn\\metrics\\_classification.py:1318: UndefinedMetricWarning: Precision and F-score are ill-defined and being set to 0.0 in labels with no predicted samples. Use `zero_division` parameter to control this behavior.\n",
      "  _warn_prf(average, modifier, msg_start, len(result))\n",
      "c:\\Users\\veroh\\anaconda3\\lib\\site-packages\\sklearn\\metrics\\_classification.py:1318: UndefinedMetricWarning: Precision and F-score are ill-defined and being set to 0.0 in labels with no predicted samples. Use `zero_division` parameter to control this behavior.\n",
      "  _warn_prf(average, modifier, msg_start, len(result))\n"
     ]
    }
   ],
   "source": [
    "print(\n",
    "    f\"Classification report for classifier {supvm}:\\n\"\n",
    "    f\"{metrics.classification_report(y_test_roiall, predicted)}\\n\"\n",
    ")"
   ]
  },
  {
   "cell_type": "code",
   "execution_count": 288,
   "metadata": {},
   "outputs": [
    {
     "name": "stdout",
     "output_type": "stream",
     "text": [
      "Confusion matrix:\n",
      "[[71  0  0  0]\n",
      " [ 5  0  0  0]\n",
      " [20  0  0  5]\n",
      " [17  0  0 12]]\n"
     ]
    },
    {
     "data": {
      "image/png": "[encoded data removed]",
      "text/plain": [
       "<Figure size 640x480 with 2 Axes>"
      ]
     },
     "metadata": {},
     "output_type": "display_data"
    }
   ],
   "source": [
    "disp = metrics.ConfusionMatrixDisplay.from_predictions(y_test_roiall, predicted)\n",
    "disp.figure_.suptitle(\"Confusion Matrix\")\n",
    "print(f\"Confusion matrix:\\n{disp.confusion_matrix}\")\n",
    "\n",
    "plt.show()"
   ]
  },
  {
   "cell_type": "code",
   "execution_count": 289,
   "metadata": {},
   "outputs": [],
   "source": [
    "X_train_comall, X_test_comall, y_train_comall, y_test_comall = train_test_split(\n",
    "    data_com_allf.values[:,:-1],\n",
    "    data_com_allf.values[:,-1],\n",
    "    test_size=0.2,\n",
    "    random_state=1,\n",
    "    stratify=data_com_allf.values[:,-1])"
   ]
  },
  {
   "cell_type": "code",
   "execution_count": 290,
   "metadata": {},
   "outputs": [],
   "source": [
    "supvm = SVC(C=10, random_state=1)"
   ]
  },
  {
   "cell_type": "code",
   "execution_count": 291,
   "metadata": {},
   "outputs": [],
   "source": [
    "X_train_comall=np.nan_to_num(X_train_comall)\n",
    "X_test_comall=np.nan_to_num(X_test_comall)"
   ]
  },
  {
   "cell_type": "code",
   "execution_count": 292,
   "metadata": {},
   "outputs": [
    {
     "data": {
      "text/plain": [
       "SVC(C=10, random_state=1)"
      ]
     },
     "execution_count": 292,
     "metadata": {},
     "output_type": "execute_result"
    }
   ],
   "source": [
    "supvm.fit(X_train_comall, y_train_comall)"
   ]
  },
  {
   "cell_type": "code",
   "execution_count": 293,
   "metadata": {},
   "outputs": [],
   "source": [
    "predicted = supvm.predict(X_test_comall)"
   ]
  },
  {
   "cell_type": "code",
   "execution_count": 294,
   "metadata": {},
   "outputs": [
    {
     "name": "stdout",
     "output_type": "stream",
     "text": [
      "Classification report for classifier SVC(C=10, random_state=1):\n",
      "              precision    recall  f1-score   support\n",
      "\n",
      "         0.0       0.93      0.96      0.94        70\n",
      "         1.0       0.00      0.00      0.00         6\n",
      "         2.0       1.00      0.08      0.15        25\n",
      "         3.0       0.52      1.00      0.68        29\n",
      "\n",
      "    accuracy                           0.75       130\n",
      "   macro avg       0.61      0.51      0.44       130\n",
      "weighted avg       0.81      0.75      0.69       130\n",
      "\n",
      "\n"
     ]
    },
    {
     "name": "stderr",
     "output_type": "stream",
     "text": [
      "c:\\Users\\veroh\\anaconda3\\lib\\site-packages\\sklearn\\metrics\\_classification.py:1318: UndefinedMetricWarning: Precision and F-score are ill-defined and being set to 0.0 in labels with no predicted samples. Use `zero_division` parameter to control this behavior.\n",
      "  _warn_prf(average, modifier, msg_start, len(result))\n",
      "c:\\Users\\veroh\\anaconda3\\lib\\site-packages\\sklearn\\metrics\\_classification.py:1318: UndefinedMetricWarning: Precision and F-score are ill-defined and being set to 0.0 in labels with no predicted samples. Use `zero_division` parameter to control this behavior.\n",
      "  _warn_prf(average, modifier, msg_start, len(result))\n",
      "c:\\Users\\veroh\\anaconda3\\lib\\site-packages\\sklearn\\metrics\\_classification.py:1318: UndefinedMetricWarning: Precision and F-score are ill-defined and being set to 0.0 in labels with no predicted samples. Use `zero_division` parameter to control this behavior.\n",
      "  _warn_prf(average, modifier, msg_start, len(result))\n"
     ]
    }
   ],
   "source": [
    "print(\n",
    "    f\"Classification report for classifier {supvm}:\\n\"\n",
    "    f\"{metrics.classification_report(y_test_comall, predicted)}\\n\"\n",
    ")"
   ]
  },
  {
   "cell_type": "code",
   "execution_count": 295,
   "metadata": {},
   "outputs": [
    {
     "name": "stdout",
     "output_type": "stream",
     "text": [
      "Confusion matrix:\n",
      "[[67  0  0  3]\n",
      " [ 5  0  0  1]\n",
      " [ 0  0  2 23]\n",
      " [ 0  0  0 29]]\n"
     ]
    },
    {
     "data": {
      "image/png": "[encoded data removed]",
      "text/plain": [
       "<Figure size 640x480 with 2 Axes>"
      ]
     },
     "metadata": {},
     "output_type": "display_data"
    }
   ],
   "source": [
    "disp = metrics.ConfusionMatrixDisplay.from_predictions(y_test_comall, predicted)\n",
    "disp.figure_.suptitle(\"Confusion Matrix\")\n",
    "print(f\"Confusion matrix:\\n{disp.confusion_matrix}\")\n",
    "plt.show()"
   ]
  },
  {
   "cell_type": "code",
   "execution_count": 296,
   "metadata": {},
   "outputs": [
    {
     "data": {
      "text/plain": [
       "array([0, 1], dtype=int64)"
      ]
     },
     "execution_count": 296,
     "metadata": {},
     "output_type": "execute_result"
    }
   ],
   "source": [
    "power_data_roi_ctr_dta['group'].unique()"
   ]
  },
  {
   "cell_type": "code",
   "execution_count": 297,
   "metadata": {},
   "outputs": [],
   "source": [
    "X_train_ctr_dta, X_test_ctr_dta, y_train_ctr_dta, y_test_ctr_dta = train_test_split(\n",
    "    power_data_roi_ctr_dta.values[:,:-1],\n",
    "    power_data_roi_ctr_dta.values[:,-1],\n",
    "    test_size=0.2,\n",
    "    random_state=1,\n",
    "    stratify=power_data_roi_ctr_dta.values[:,-1])"
   ]
  },
  {
   "cell_type": "code",
   "execution_count": 298,
   "metadata": {},
   "outputs": [],
   "source": [
    "supvm = SVC(C=10, random_state=1)"
   ]
  },
  {
   "cell_type": "code",
   "execution_count": 299,
   "metadata": {},
   "outputs": [],
   "source": [
    "X_train_ctr_dta=np.nan_to_num(X_train_ctr_dta)\n",
    "X_test_ctr_dta=np.nan_to_num(X_test_ctr_dta)"
   ]
  },
  {
   "cell_type": "code",
   "execution_count": 300,
   "metadata": {},
   "outputs": [
    {
     "data": {
      "text/plain": [
       "SVC(C=10, random_state=1)"
      ]
     },
     "execution_count": 300,
     "metadata": {},
     "output_type": "execute_result"
    }
   ],
   "source": [
    "supvm.fit(X_train_ctr_dta, y_train_ctr_dta)"
   ]
  },
  {
   "cell_type": "code",
   "execution_count": 301,
   "metadata": {},
   "outputs": [],
   "source": [
    "predicted = supvm.predict(X_test_ctr_dta)"
   ]
  },
  {
   "cell_type": "code",
   "execution_count": 302,
   "metadata": {},
   "outputs": [
    {
     "name": "stdout",
     "output_type": "stream",
     "text": [
      "Classification report for classifier SVC(C=10, random_state=1):\n",
      "              precision    recall  f1-score   support\n",
      "\n",
      "         0.0       1.00      1.00      1.00        71\n",
      "         1.0       1.00      1.00      1.00         5\n",
      "\n",
      "    accuracy                           1.00        76\n",
      "   macro avg       1.00      1.00      1.00        76\n",
      "weighted avg       1.00      1.00      1.00        76\n",
      "\n",
      "\n"
     ]
    }
   ],
   "source": [
    "print(\n",
    "    f\"Classification report for classifier {supvm}:\\n\"\n",
    "    f\"{metrics.classification_report(y_test_ctr_dta, predicted)}\\n\"\n",
    ")"
   ]
  },
  {
   "cell_type": "code",
   "execution_count": 303,
   "metadata": {},
   "outputs": [
    {
     "name": "stdout",
     "output_type": "stream",
     "text": [
      "Confusion matrix:\n",
      "[[71  0]\n",
      " [ 0  5]]\n"
     ]
    },
    {
     "data": {
      "image/png": "[encoded data removed]",
      "text/plain": [
       "<Figure size 640x480 with 2 Axes>"
      ]
     },
     "metadata": {},
     "output_type": "display_data"
    }
   ],
   "source": [
    "disp = metrics.ConfusionMatrixDisplay.from_predictions(y_test_ctr_dta, predicted)\n",
    "disp.figure_.suptitle(\"Confusion Matrix\")\n",
    "print(f\"Confusion matrix:\\n{disp.confusion_matrix}\")\n",
    "\n",
    "plt.show()"
   ]
  },
  {
   "cell_type": "code",
   "execution_count": null,
   "metadata": {},
   "outputs": [],
   "source": []
  },
  {
   "cell_type": "code",
   "execution_count": 304,
   "metadata": {},
   "outputs": [
    {
     "data": {
      "text/plain": [
       "<AxesSubplot:xlabel='power_C14_Theta', ylabel='power_C14_Delta'>"
      ]
     },
     "execution_count": 304,
     "metadata": {},
     "output_type": "execute_result"
    },
    {
     "data": {
      "image/png": "[encoded data removed]",
      "text/plain": [
       "<Figure size 1000x600 with 1 Axes>"
      ]
     },
     "metadata": {},
     "output_type": "display_data"
    }
   ],
   "source": [
    "fig = plt.gcf()\n",
    "\n",
    "fig.set_size_inches(10, 6)\n",
    "sns.scatterplot(data=data_com,\n",
    "            y='power_C14_Delta',\n",
    "            x='power_C14_Theta',\n",
    "            hue='group',\n",
    "            style='database',\n",
    "            )\n"
   ]
  },
  {
   "cell_type": "code",
   "execution_count": 305,
   "metadata": {},
   "outputs": [
    {
     "data": {
      "text/plain": [
       "\" for i in data_roi_scatter.columns.values[1:]:\\n    \\n    fig = plt.gcf()\\n    fig.set_size_inches(10, 6)\\n    sns.scatterplot(data=data_roi,\\n                y=i,\\n                x='index',\\n                hue='group',\\n                style='database',\\n                 )\\n\\n    plt.show()\\n \""
      ]
     },
     "execution_count": 305,
     "metadata": {},
     "output_type": "execute_result"
    }
   ],
   "source": [
    "# Genera los diagramas de dispersión para todas las caracteristicas numericas\n",
    "# de las ROI'S\n",
    "\n",
    "\"\"\" for i in data_roi_scatter.columns.values[1:]:\n",
    "    \n",
    "    fig = plt.gcf()\n",
    "    fig.set_size_inches(10, 6)\n",
    "    sns.scatterplot(data=data_roi,\n",
    "                y=i,\n",
    "                x='index',\n",
    "                hue='group',\n",
    "                style='database',\n",
    "                 )\n",
    "\n",
    "    plt.show()\n",
    " \"\"\""
   ]
  },
  {
   "cell_type": "code",
   "execution_count": 306,
   "metadata": {},
   "outputs": [
    {
     "data": {
      "text/plain": [
       "\" for i in data_com_scatter.columns.values[1:]:\\n\\n    fig = plt.gcf()\\n    fig.set_size_inches(10, 6)\\n    sns.scatterplot(data=data_com,\\n                y=i,\\n                x='index',\\n                hue='group',\\n                style='database',\\n                )\\n\\n    plt.show() \""
      ]
     },
     "execution_count": 306,
     "metadata": {},
     "output_type": "execute_result"
    }
   ],
   "source": [
    "# Genera los diagramas de dispersión para todas las caracteristicas numericas\n",
    "# de las Componentes\n",
    "\n",
    "\"\"\" for i in data_com_scatter.columns.values[1:]:\n",
    "\n",
    "    fig = plt.gcf()\n",
    "    fig.set_size_inches(10, 6)\n",
    "    sns.scatterplot(data=data_com,\n",
    "                y=i,\n",
    "                x='index',\n",
    "                hue='group',\n",
    "                style='database',\n",
    "                )\n",
    "\n",
    "    plt.show() \"\"\""
   ]
  },
  {
   "cell_type": "code",
   "execution_count": 307,
   "metadata": {},
   "outputs": [
    {
     "name": "stderr",
     "output_type": "stream",
     "text": [
      "C:\\Users\\veroh\\AppData\\Local\\Temp\\ipykernel_120444\\4184847902.py:2: SettingWithCopyWarning: \n",
      "A value is trying to be set on a copy of a slice from a DataFrame.\n",
      "Try using .loc[row_indexer,col_indexer] = value instead\n",
      "\n",
      "See the caveats in the documentation: https://pandas.pydata.org/pandas-docs/stable/user_guide/indexing.html#returning-a-view-versus-a-copy\n",
      "  power_data_com['group'] = data_com['group']\n"
     ]
    },
    {
     "data": {
      "text/html": [
       "<div>\n",
       "<style scoped>\n",
       "    .dataframe tbody tr th:only-of-type {\n",
       "        vertical-align: middle;\n",
       "    }\n",
       "\n",
       "    .dataframe tbody tr th {\n",
       "        vertical-align: top;\n",
       "    }\n",
       "\n",
       "    .dataframe thead th {\n",
       "        text-align: right;\n",
       "    }\n",
       "</style>\n",
       "<table border=\"1\" class=\"dataframe\">\n",
       "  <thead>\n",
       "    <tr style=\"text-align: right;\">\n",
       "      <th></th>\n",
       "      <th>power_C14_Delta</th>\n",
       "      <th>power_C14_Theta</th>\n",
       "      <th>power_C14_Alpha-1</th>\n",
       "      <th>power_C14_Alpha-2</th>\n",
       "      <th>power_C14_Beta1</th>\n",
       "      <th>power_C14_Beta2</th>\n",
       "      <th>power_C14_Beta3</th>\n",
       "      <th>power_C14_Gamma</th>\n",
       "      <th>power_C15_Delta</th>\n",
       "      <th>power_C15_Theta</th>\n",
       "      <th>...</th>\n",
       "      <th>power_C24_Gamma</th>\n",
       "      <th>power_C25_Delta</th>\n",
       "      <th>power_C25_Theta</th>\n",
       "      <th>power_C25_Alpha-1</th>\n",
       "      <th>power_C25_Alpha-2</th>\n",
       "      <th>power_C25_Beta1</th>\n",
       "      <th>power_C25_Beta2</th>\n",
       "      <th>power_C25_Beta3</th>\n",
       "      <th>power_C25_Gamma</th>\n",
       "      <th>group</th>\n",
       "    </tr>\n",
       "  </thead>\n",
       "  <tbody>\n",
       "    <tr>\n",
       "      <th>0</th>\n",
       "      <td>0.327104</td>\n",
       "      <td>0.090290</td>\n",
       "      <td>0.095894</td>\n",
       "      <td>0.171136</td>\n",
       "      <td>0.116639</td>\n",
       "      <td>0.031024</td>\n",
       "      <td>0.100370</td>\n",
       "      <td>0.067543</td>\n",
       "      <td>0.412928</td>\n",
       "      <td>0.121229</td>\n",
       "      <td>...</td>\n",
       "      <td>0.013167</td>\n",
       "      <td>0.092124</td>\n",
       "      <td>0.056419</td>\n",
       "      <td>0.354509</td>\n",
       "      <td>0.338190</td>\n",
       "      <td>0.077824</td>\n",
       "      <td>0.024582</td>\n",
       "      <td>0.042012</td>\n",
       "      <td>0.014342</td>\n",
       "      <td>Control</td>\n",
       "    </tr>\n",
       "    <tr>\n",
       "      <th>1</th>\n",
       "      <td>0.247386</td>\n",
       "      <td>0.071738</td>\n",
       "      <td>0.066750</td>\n",
       "      <td>0.059420</td>\n",
       "      <td>0.141935</td>\n",
       "      <td>0.047338</td>\n",
       "      <td>0.175262</td>\n",
       "      <td>0.190171</td>\n",
       "      <td>0.335093</td>\n",
       "      <td>0.099891</td>\n",
       "      <td>...</td>\n",
       "      <td>0.119121</td>\n",
       "      <td>0.415142</td>\n",
       "      <td>0.098463</td>\n",
       "      <td>0.065848</td>\n",
       "      <td>0.072560</td>\n",
       "      <td>0.149561</td>\n",
       "      <td>0.042183</td>\n",
       "      <td>0.091376</td>\n",
       "      <td>0.064866</td>\n",
       "      <td>Control</td>\n",
       "    </tr>\n",
       "    <tr>\n",
       "      <th>2</th>\n",
       "      <td>0.140841</td>\n",
       "      <td>0.106433</td>\n",
       "      <td>0.186905</td>\n",
       "      <td>0.049452</td>\n",
       "      <td>0.159093</td>\n",
       "      <td>0.105669</td>\n",
       "      <td>0.149959</td>\n",
       "      <td>0.101647</td>\n",
       "      <td>0.278358</td>\n",
       "      <td>0.154533</td>\n",
       "      <td>...</td>\n",
       "      <td>0.043151</td>\n",
       "      <td>0.085588</td>\n",
       "      <td>0.179970</td>\n",
       "      <td>0.575251</td>\n",
       "      <td>0.040625</td>\n",
       "      <td>0.058975</td>\n",
       "      <td>0.018758</td>\n",
       "      <td>0.023623</td>\n",
       "      <td>0.017210</td>\n",
       "      <td>Control</td>\n",
       "    </tr>\n",
       "    <tr>\n",
       "      <th>3</th>\n",
       "      <td>0.157902</td>\n",
       "      <td>0.154305</td>\n",
       "      <td>0.267533</td>\n",
       "      <td>0.064889</td>\n",
       "      <td>0.145734</td>\n",
       "      <td>0.069127</td>\n",
       "      <td>0.098994</td>\n",
       "      <td>0.041517</td>\n",
       "      <td>0.163492</td>\n",
       "      <td>0.145038</td>\n",
       "      <td>...</td>\n",
       "      <td>0.020211</td>\n",
       "      <td>0.100673</td>\n",
       "      <td>0.145661</td>\n",
       "      <td>0.469200</td>\n",
       "      <td>0.106960</td>\n",
       "      <td>0.079745</td>\n",
       "      <td>0.059673</td>\n",
       "      <td>0.026306</td>\n",
       "      <td>0.011782</td>\n",
       "      <td>Control</td>\n",
       "    </tr>\n",
       "    <tr>\n",
       "      <th>4</th>\n",
       "      <td>0.346331</td>\n",
       "      <td>0.085229</td>\n",
       "      <td>0.076336</td>\n",
       "      <td>0.071917</td>\n",
       "      <td>0.131478</td>\n",
       "      <td>0.045022</td>\n",
       "      <td>0.111403</td>\n",
       "      <td>0.132283</td>\n",
       "      <td>0.424508</td>\n",
       "      <td>0.109717</td>\n",
       "      <td>...</td>\n",
       "      <td>0.103555</td>\n",
       "      <td>0.245195</td>\n",
       "      <td>0.088844</td>\n",
       "      <td>0.208786</td>\n",
       "      <td>0.228378</td>\n",
       "      <td>0.120503</td>\n",
       "      <td>0.021160</td>\n",
       "      <td>0.045526</td>\n",
       "      <td>0.041608</td>\n",
       "      <td>Control</td>\n",
       "    </tr>\n",
       "    <tr>\n",
       "      <th>...</th>\n",
       "      <td>...</td>\n",
       "      <td>...</td>\n",
       "      <td>...</td>\n",
       "      <td>...</td>\n",
       "      <td>...</td>\n",
       "      <td>...</td>\n",
       "      <td>...</td>\n",
       "      <td>...</td>\n",
       "      <td>...</td>\n",
       "      <td>...</td>\n",
       "      <td>...</td>\n",
       "      <td>...</td>\n",
       "      <td>...</td>\n",
       "      <td>...</td>\n",
       "      <td>...</td>\n",
       "      <td>...</td>\n",
       "      <td>...</td>\n",
       "      <td>...</td>\n",
       "      <td>...</td>\n",
       "      <td>...</td>\n",
       "      <td>...</td>\n",
       "    </tr>\n",
       "    <tr>\n",
       "      <th>688</th>\n",
       "      <td>0.129311</td>\n",
       "      <td>0.056886</td>\n",
       "      <td>0.243857</td>\n",
       "      <td>0.346875</td>\n",
       "      <td>0.094494</td>\n",
       "      <td>0.023124</td>\n",
       "      <td>0.066560</td>\n",
       "      <td>0.038894</td>\n",
       "      <td>0.189479</td>\n",
       "      <td>0.048154</td>\n",
       "      <td>...</td>\n",
       "      <td>0.019293</td>\n",
       "      <td>0.121643</td>\n",
       "      <td>0.061784</td>\n",
       "      <td>0.627194</td>\n",
       "      <td>0.101736</td>\n",
       "      <td>0.033033</td>\n",
       "      <td>0.009645</td>\n",
       "      <td>0.016506</td>\n",
       "      <td>0.028458</td>\n",
       "      <td>Control</td>\n",
       "    </tr>\n",
       "    <tr>\n",
       "      <th>689</th>\n",
       "      <td>0.326392</td>\n",
       "      <td>0.095466</td>\n",
       "      <td>0.103793</td>\n",
       "      <td>0.219377</td>\n",
       "      <td>0.095150</td>\n",
       "      <td>0.040168</td>\n",
       "      <td>0.078880</td>\n",
       "      <td>0.040773</td>\n",
       "      <td>0.305733</td>\n",
       "      <td>0.092093</td>\n",
       "      <td>...</td>\n",
       "      <td>0.025071</td>\n",
       "      <td>0.193927</td>\n",
       "      <td>0.055548</td>\n",
       "      <td>0.185792</td>\n",
       "      <td>0.387611</td>\n",
       "      <td>0.096916</td>\n",
       "      <td>0.024525</td>\n",
       "      <td>0.039829</td>\n",
       "      <td>0.015850</td>\n",
       "      <td>Control</td>\n",
       "    </tr>\n",
       "    <tr>\n",
       "      <th>690</th>\n",
       "      <td>0.156019</td>\n",
       "      <td>0.093890</td>\n",
       "      <td>0.106951</td>\n",
       "      <td>0.118123</td>\n",
       "      <td>0.238013</td>\n",
       "      <td>0.106075</td>\n",
       "      <td>0.143480</td>\n",
       "      <td>0.037450</td>\n",
       "      <td>0.206543</td>\n",
       "      <td>0.107220</td>\n",
       "      <td>...</td>\n",
       "      <td>0.079751</td>\n",
       "      <td>0.262242</td>\n",
       "      <td>0.116653</td>\n",
       "      <td>0.109654</td>\n",
       "      <td>0.151588</td>\n",
       "      <td>0.149811</td>\n",
       "      <td>0.062408</td>\n",
       "      <td>0.110621</td>\n",
       "      <td>0.037022</td>\n",
       "      <td>Control</td>\n",
       "    </tr>\n",
       "    <tr>\n",
       "      <th>691</th>\n",
       "      <td>0.257382</td>\n",
       "      <td>0.072319</td>\n",
       "      <td>0.162746</td>\n",
       "      <td>0.282953</td>\n",
       "      <td>0.124002</td>\n",
       "      <td>0.023593</td>\n",
       "      <td>0.048525</td>\n",
       "      <td>0.028480</td>\n",
       "      <td>0.481628</td>\n",
       "      <td>0.137638</td>\n",
       "      <td>...</td>\n",
       "      <td>0.010511</td>\n",
       "      <td>0.117754</td>\n",
       "      <td>0.059860</td>\n",
       "      <td>0.207606</td>\n",
       "      <td>0.423183</td>\n",
       "      <td>0.135817</td>\n",
       "      <td>0.017241</td>\n",
       "      <td>0.028568</td>\n",
       "      <td>0.009970</td>\n",
       "      <td>Control</td>\n",
       "    </tr>\n",
       "    <tr>\n",
       "      <th>692</th>\n",
       "      <td>0.203308</td>\n",
       "      <td>0.092275</td>\n",
       "      <td>0.211198</td>\n",
       "      <td>0.244425</td>\n",
       "      <td>0.063694</td>\n",
       "      <td>0.104019</td>\n",
       "      <td>0.052008</td>\n",
       "      <td>0.029074</td>\n",
       "      <td>0.198306</td>\n",
       "      <td>0.089650</td>\n",
       "      <td>...</td>\n",
       "      <td>0.011463</td>\n",
       "      <td>0.170891</td>\n",
       "      <td>0.090614</td>\n",
       "      <td>0.248158</td>\n",
       "      <td>0.166160</td>\n",
       "      <td>0.050034</td>\n",
       "      <td>0.133041</td>\n",
       "      <td>0.044478</td>\n",
       "      <td>0.096625</td>\n",
       "      <td>Control</td>\n",
       "    </tr>\n",
       "  </tbody>\n",
       "</table>\n",
       "<p>646 rows × 65 columns</p>\n",
       "</div>"
      ],
      "text/plain": [
       "     power_C14_Delta  power_C14_Theta  power_C14_Alpha-1  power_C14_Alpha-2  \\\n",
       "0           0.327104         0.090290           0.095894           0.171136   \n",
       "1           0.247386         0.071738           0.066750           0.059420   \n",
       "2           0.140841         0.106433           0.186905           0.049452   \n",
       "3           0.157902         0.154305           0.267533           0.064889   \n",
       "4           0.346331         0.085229           0.076336           0.071917   \n",
       "..               ...              ...                ...                ...   \n",
       "688         0.129311         0.056886           0.243857           0.346875   \n",
       "689         0.326392         0.095466           0.103793           0.219377   \n",
       "690         0.156019         0.093890           0.106951           0.118123   \n",
       "691         0.257382         0.072319           0.162746           0.282953   \n",
       "692         0.203308         0.092275           0.211198           0.244425   \n",
       "\n",
       "     power_C14_Beta1  power_C14_Beta2  power_C14_Beta3  power_C14_Gamma  \\\n",
       "0           0.116639         0.031024         0.100370         0.067543   \n",
       "1           0.141935         0.047338         0.175262         0.190171   \n",
       "2           0.159093         0.105669         0.149959         0.101647   \n",
       "3           0.145734         0.069127         0.098994         0.041517   \n",
       "4           0.131478         0.045022         0.111403         0.132283   \n",
       "..               ...              ...              ...              ...   \n",
       "688         0.094494         0.023124         0.066560         0.038894   \n",
       "689         0.095150         0.040168         0.078880         0.040773   \n",
       "690         0.238013         0.106075         0.143480         0.037450   \n",
       "691         0.124002         0.023593         0.048525         0.028480   \n",
       "692         0.063694         0.104019         0.052008         0.029074   \n",
       "\n",
       "     power_C15_Delta  power_C15_Theta  ...  power_C24_Gamma  power_C25_Delta  \\\n",
       "0           0.412928         0.121229  ...         0.013167         0.092124   \n",
       "1           0.335093         0.099891  ...         0.119121         0.415142   \n",
       "2           0.278358         0.154533  ...         0.043151         0.085588   \n",
       "3           0.163492         0.145038  ...         0.020211         0.100673   \n",
       "4           0.424508         0.109717  ...         0.103555         0.245195   \n",
       "..               ...              ...  ...              ...              ...   \n",
       "688         0.189479         0.048154  ...         0.019293         0.121643   \n",
       "689         0.305733         0.092093  ...         0.025071         0.193927   \n",
       "690         0.206543         0.107220  ...         0.079751         0.262242   \n",
       "691         0.481628         0.137638  ...         0.010511         0.117754   \n",
       "692         0.198306         0.089650  ...         0.011463         0.170891   \n",
       "\n",
       "     power_C25_Theta  power_C25_Alpha-1  power_C25_Alpha-2  power_C25_Beta1  \\\n",
       "0           0.056419           0.354509           0.338190         0.077824   \n",
       "1           0.098463           0.065848           0.072560         0.149561   \n",
       "2           0.179970           0.575251           0.040625         0.058975   \n",
       "3           0.145661           0.469200           0.106960         0.079745   \n",
       "4           0.088844           0.208786           0.228378         0.120503   \n",
       "..               ...                ...                ...              ...   \n",
       "688         0.061784           0.627194           0.101736         0.033033   \n",
       "689         0.055548           0.185792           0.387611         0.096916   \n",
       "690         0.116653           0.109654           0.151588         0.149811   \n",
       "691         0.059860           0.207606           0.423183         0.135817   \n",
       "692         0.090614           0.248158           0.166160         0.050034   \n",
       "\n",
       "     power_C25_Beta2  power_C25_Beta3  power_C25_Gamma    group  \n",
       "0           0.024582         0.042012         0.014342  Control  \n",
       "1           0.042183         0.091376         0.064866  Control  \n",
       "2           0.018758         0.023623         0.017210  Control  \n",
       "3           0.059673         0.026306         0.011782  Control  \n",
       "4           0.021160         0.045526         0.041608  Control  \n",
       "..               ...              ...              ...      ...  \n",
       "688         0.009645         0.016506         0.028458  Control  \n",
       "689         0.024525         0.039829         0.015850  Control  \n",
       "690         0.062408         0.110621         0.037022  Control  \n",
       "691         0.017241         0.028568         0.009970  Control  \n",
       "692         0.133041         0.044478         0.096625  Control  \n",
       "\n",
       "[646 rows x 65 columns]"
      ]
     },
     "execution_count": 307,
     "metadata": {},
     "output_type": "execute_result"
    }
   ],
   "source": [
    "power_data_com = data_com.filter(regex='power')\n",
    "power_data_com['group'] = data_com['group']\n",
    "power_data_com"
   ]
  },
  {
   "attachments": {},
   "cell_type": "markdown",
   "metadata": {},
   "source": [
    "# Entrenamiento random forest"
   ]
  },
  {
   "attachments": {},
   "cell_type": "markdown",
   "metadata": {},
   "source": [
    "## Random Forest de clasificación multiclase"
   ]
  },
  {
   "cell_type": "code",
   "execution_count": 308,
   "metadata": {},
   "outputs": [],
   "source": [
    "rfclf = RandomForestClassifier(n_estimators=100,\n",
    "criterion='gini',\n",
    "random_state=1,\n",
    ")"
   ]
  },
  {
   "cell_type": "code",
   "execution_count": 309,
   "metadata": {},
   "outputs": [
    {
     "data": {
      "text/plain": [
       "RandomForestClassifier(random_state=1)"
      ]
     },
     "execution_count": 309,
     "metadata": {},
     "output_type": "execute_result"
    }
   ],
   "source": [
    "rfclf.fit(X_train_roi, y_train_roi)"
   ]
  },
  {
   "cell_type": "code",
   "execution_count": 310,
   "metadata": {},
   "outputs": [],
   "source": [
    "predicted = rfclf.predict(X_test_roi)"
   ]
  },
  {
   "cell_type": "code",
   "execution_count": 311,
   "metadata": {},
   "outputs": [
    {
     "name": "stdout",
     "output_type": "stream",
     "text": [
      "Classification report for classifier RandomForestClassifier(random_state=1):\n",
      "              precision    recall  f1-score   support\n",
      "\n",
      "         0.0       0.69      0.94      0.80        71\n",
      "         1.0       1.00      0.60      0.75         5\n",
      "         2.0       0.60      0.48      0.53        25\n",
      "         3.0       0.70      0.24      0.36        29\n",
      "\n",
      "    accuracy                           0.68       130\n",
      "   macro avg       0.75      0.57      0.61       130\n",
      "weighted avg       0.69      0.68      0.65       130\n",
      "\n",
      "\n"
     ]
    }
   ],
   "source": [
    "print(\n",
    "    f\"Classification report for classifier {rfclf}:\\n\"\n",
    "    f\"{metrics.classification_report(y_test_roi, predicted)}\\n\"\n",
    ")"
   ]
  },
  {
   "cell_type": "code",
   "execution_count": 312,
   "metadata": {},
   "outputs": [
    {
     "name": "stdout",
     "output_type": "stream",
     "text": [
      "Confusion matrix:\n",
      "[[67  0  4  0]\n",
      " [ 2  3  0  0]\n",
      " [10  0 12  3]\n",
      " [18  0  4  7]]\n"
     ]
    },
    {
     "data": {
      "image/png": "[encoded data removed]",
      "text/plain": [
       "<Figure size 640x480 with 2 Axes>"
      ]
     },
     "metadata": {},
     "output_type": "display_data"
    }
   ],
   "source": [
    "disp = metrics.ConfusionMatrixDisplay.from_predictions(y_test_roi, predicted)\n",
    "disp.figure_.suptitle(\"Confusion Matrix\")\n",
    "print(f\"Confusion matrix:\\n{disp.confusion_matrix}\")\n",
    "\n",
    "plt.show()"
   ]
  },
  {
   "cell_type": "code",
   "execution_count": 313,
   "metadata": {},
   "outputs": [
    {
     "data": {
      "text/plain": [
       "RandomForestClassifier(random_state=1)"
      ]
     },
     "execution_count": 313,
     "metadata": {},
     "output_type": "execute_result"
    }
   ],
   "source": [
    "rfclf.fit(X_train_com, y_train_com)"
   ]
  },
  {
   "cell_type": "code",
   "execution_count": 314,
   "metadata": {},
   "outputs": [],
   "source": [
    "predicted = rfclf.predict(X_test_com)"
   ]
  },
  {
   "cell_type": "code",
   "execution_count": 315,
   "metadata": {},
   "outputs": [
    {
     "name": "stdout",
     "output_type": "stream",
     "text": [
      "Classification report for classifier RandomForestClassifier(random_state=1):\n",
      "              precision    recall  f1-score   support\n",
      "\n",
      "         0.0       0.66      0.96      0.78        70\n",
      "         1.0       1.00      0.17      0.29         6\n",
      "         2.0       0.79      0.44      0.56        25\n",
      "         3.0       0.71      0.34      0.47        29\n",
      "\n",
      "    accuracy                           0.68       130\n",
      "   macro avg       0.79      0.48      0.52       130\n",
      "weighted avg       0.71      0.68      0.65       130\n",
      "\n",
      "\n"
     ]
    }
   ],
   "source": [
    "print(\n",
    "    f\"Classification report for classifier {rfclf}:\\n\"\n",
    "    f\"{metrics.classification_report(y_test_com, predicted)}\\n\"\n",
    ")"
   ]
  },
  {
   "cell_type": "code",
   "execution_count": 316,
   "metadata": {},
   "outputs": [
    {
     "name": "stdout",
     "output_type": "stream",
     "text": [
      "Confusion matrix:\n",
      "[[67  0  2  1]\n",
      " [ 5  1  0  0]\n",
      " [11  0 11  3]\n",
      " [18  0  1 10]]\n"
     ]
    },
    {
     "data": {
      "image/png": "[encoded data removed]",
      "text/plain": [
       "<Figure size 640x480 with 2 Axes>"
      ]
     },
     "metadata": {},
     "output_type": "display_data"
    }
   ],
   "source": [
    "disp = metrics.ConfusionMatrixDisplay.from_predictions(y_test_com, predicted)\n",
    "disp.figure_.suptitle(\"Confusion Matrix\")\n",
    "print(f\"Confusion matrix:\\n{disp.confusion_matrix}\")\n",
    "\n",
    "plt.show()"
   ]
  },
  {
   "attachments": {},
   "cell_type": "markdown",
   "metadata": {},
   "source": [
    "## Random Forest de clasificación binaria"
   ]
  },
  {
   "attachments": {},
   "cell_type": "markdown",
   "metadata": {},
   "source": [
    "### Controles Vs. DTA"
   ]
  },
  {
   "cell_type": "code",
   "execution_count": 317,
   "metadata": {},
   "outputs": [
    {
     "data": {
      "text/plain": [
       "RandomForestClassifier(random_state=1)"
      ]
     },
     "execution_count": 317,
     "metadata": {},
     "output_type": "execute_result"
    }
   ],
   "source": [
    "rfclf.fit(X_train_roi_ctr_dta, y_train_roi_ctr_dta)"
   ]
  },
  {
   "cell_type": "code",
   "execution_count": 318,
   "metadata": {},
   "outputs": [],
   "source": [
    "predicted = rfclf.predict(X_test_roi_ctr_dta)"
   ]
  },
  {
   "cell_type": "code",
   "execution_count": 319,
   "metadata": {},
   "outputs": [
    {
     "name": "stdout",
     "output_type": "stream",
     "text": [
      "Classification report for classifier RandomForestClassifier(random_state=1):\n",
      "              precision    recall  f1-score   support\n",
      "\n",
      "         0.0       0.97      1.00      0.99        71\n",
      "         1.0       1.00      0.60      0.75         5\n",
      "\n",
      "    accuracy                           0.97        76\n",
      "   macro avg       0.99      0.80      0.87        76\n",
      "weighted avg       0.97      0.97      0.97        76\n",
      "\n",
      "\n"
     ]
    }
   ],
   "source": [
    "print(\n",
    "    f\"Classification report for classifier {rfclf}:\\n\"\n",
    "    f\"{metrics.classification_report(y_test_roi_ctr_dta, predicted)}\\n\"\n",
    ")"
   ]
  },
  {
   "cell_type": "code",
   "execution_count": 320,
   "metadata": {},
   "outputs": [
    {
     "name": "stdout",
     "output_type": "stream",
     "text": [
      "Confusion matrix:\n",
      "[[71  0]\n",
      " [ 2  3]]\n"
     ]
    },
    {
     "data": {
      "image/png": "[encoded data removed]",
      "text/plain": [
       "<Figure size 640x480 with 2 Axes>"
      ]
     },
     "metadata": {},
     "output_type": "display_data"
    }
   ],
   "source": [
    "disp = metrics.ConfusionMatrixDisplay.from_predictions(y_test_roi_ctr_dta, predicted)\n",
    "disp.figure_.suptitle(\"Confusion Matrix\")\n",
    "print(f\"Confusion matrix:\\n{disp.confusion_matrix}\")\n",
    "\n",
    "plt.show()"
   ]
  },
  {
   "cell_type": "code",
   "execution_count": 321,
   "metadata": {},
   "outputs": [
    {
     "data": {
      "text/plain": [
       "RandomForestClassifier(random_state=1)"
      ]
     },
     "execution_count": 321,
     "metadata": {},
     "output_type": "execute_result"
    }
   ],
   "source": [
    "rfclf.fit(X_train_com_ctr_dta, y_train_com_ctr_dta)"
   ]
  },
  {
   "cell_type": "code",
   "execution_count": 322,
   "metadata": {},
   "outputs": [],
   "source": [
    "predicted = rfclf.predict(X_test_com_ctr_dta)"
   ]
  },
  {
   "cell_type": "code",
   "execution_count": 323,
   "metadata": {},
   "outputs": [
    {
     "name": "stdout",
     "output_type": "stream",
     "text": [
      "Classification report for classifier RandomForestClassifier(random_state=1):\n",
      "              precision    recall  f1-score   support\n",
      "\n",
      "         0.0       0.93      1.00      0.97        70\n",
      "         1.0       1.00      0.17      0.29         6\n",
      "\n",
      "    accuracy                           0.93        76\n",
      "   macro avg       0.97      0.58      0.63        76\n",
      "weighted avg       0.94      0.93      0.91        76\n",
      "\n",
      "\n"
     ]
    }
   ],
   "source": [
    "print(\n",
    "    f\"Classification report for classifier {rfclf}:\\n\"\n",
    "    f\"{metrics.classification_report(y_test_com_ctr_dta, predicted)}\\n\"\n",
    ")"
   ]
  },
  {
   "cell_type": "code",
   "execution_count": 324,
   "metadata": {},
   "outputs": [
    {
     "name": "stdout",
     "output_type": "stream",
     "text": [
      "Confusion matrix:\n",
      "[[70  0]\n",
      " [ 5  1]]\n"
     ]
    },
    {
     "data": {
      "image/png": "[encoded data removed]",
      "text/plain": [
       "<Figure size 640x480 with 2 Axes>"
      ]
     },
     "metadata": {},
     "output_type": "display_data"
    }
   ],
   "source": [
    "disp = metrics.ConfusionMatrixDisplay.from_predictions(y_test_com_ctr_dta, predicted)\n",
    "disp.figure_.suptitle(\"Confusion Matrix\")\n",
    "print(f\"Confusion matrix:\\n{disp.confusion_matrix}\")\n",
    "\n",
    "plt.show()"
   ]
  },
  {
   "attachments": {},
   "cell_type": "markdown",
   "metadata": {},
   "source": [
    "### G1 Vs. G2"
   ]
  },
  {
   "cell_type": "code",
   "execution_count": 325,
   "metadata": {},
   "outputs": [
    {
     "data": {
      "text/plain": [
       "RandomForestClassifier(random_state=1)"
      ]
     },
     "execution_count": 325,
     "metadata": {},
     "output_type": "execute_result"
    }
   ],
   "source": [
    "rfclf.fit(X_train_roi_g1_g2, y_train_roi_g1_g2)"
   ]
  },
  {
   "cell_type": "code",
   "execution_count": 326,
   "metadata": {},
   "outputs": [],
   "source": [
    "predicted = rfclf.predict(X_test_roi_g1_g2)"
   ]
  },
  {
   "cell_type": "code",
   "execution_count": 327,
   "metadata": {},
   "outputs": [
    {
     "name": "stdout",
     "output_type": "stream",
     "text": [
      "Classification report for classifier RandomForestClassifier(random_state=1):\n",
      "              precision    recall  f1-score   support\n",
      "\n",
      "         2.0       0.60      0.72      0.65        25\n",
      "         3.0       0.71      0.59      0.64        29\n",
      "\n",
      "    accuracy                           0.65        54\n",
      "   macro avg       0.65      0.65      0.65        54\n",
      "weighted avg       0.66      0.65      0.65        54\n",
      "\n",
      "\n"
     ]
    }
   ],
   "source": [
    "print(\n",
    "    f\"Classification report for classifier {rfclf}:\\n\"\n",
    "    f\"{metrics.classification_report(y_test_roi_g1_g2, predicted)}\\n\"\n",
    ")"
   ]
  },
  {
   "cell_type": "code",
   "execution_count": 328,
   "metadata": {},
   "outputs": [
    {
     "name": "stdout",
     "output_type": "stream",
     "text": [
      "Confusion matrix:\n",
      "[[18  7]\n",
      " [12 17]]\n"
     ]
    },
    {
     "data": {
      "image/png": "[encoded data removed]",
      "text/plain": [
       "<Figure size 640x480 with 2 Axes>"
      ]
     },
     "metadata": {},
     "output_type": "display_data"
    }
   ],
   "source": [
    "disp = metrics.ConfusionMatrixDisplay.from_predictions(y_test_roi_g1_g2, predicted)\n",
    "disp.figure_.suptitle(\"Confusion Matrix\")\n",
    "print(f\"Confusion matrix:\\n{disp.confusion_matrix}\")\n",
    "\n",
    "plt.show()"
   ]
  },
  {
   "cell_type": "code",
   "execution_count": 329,
   "metadata": {},
   "outputs": [
    {
     "data": {
      "text/plain": [
       "RandomForestClassifier(random_state=1)"
      ]
     },
     "execution_count": 329,
     "metadata": {},
     "output_type": "execute_result"
    }
   ],
   "source": [
    "rfclf.fit(X_train_com_g1_g2, y_train_com_g1_g2)"
   ]
  },
  {
   "cell_type": "code",
   "execution_count": 330,
   "metadata": {},
   "outputs": [],
   "source": [
    "predicted = rfclf.predict(X_test_com_g1_g2)"
   ]
  },
  {
   "cell_type": "code",
   "execution_count": 331,
   "metadata": {},
   "outputs": [
    {
     "name": "stdout",
     "output_type": "stream",
     "text": [
      "Classification report for classifier RandomForestClassifier(random_state=1):\n",
      "              precision    recall  f1-score   support\n",
      "\n",
      "         2.0       0.75      0.84      0.79        25\n",
      "         3.0       0.85      0.76      0.80        29\n",
      "\n",
      "    accuracy                           0.80        54\n",
      "   macro avg       0.80      0.80      0.80        54\n",
      "weighted avg       0.80      0.80      0.80        54\n",
      "\n",
      "\n"
     ]
    }
   ],
   "source": [
    "print(\n",
    "    f\"Classification report for classifier {rfclf}:\\n\"\n",
    "    f\"{metrics.classification_report(y_test_com_g1_g2, predicted)}\\n\"\n",
    ")"
   ]
  },
  {
   "cell_type": "code",
   "execution_count": 332,
   "metadata": {},
   "outputs": [
    {
     "name": "stdout",
     "output_type": "stream",
     "text": [
      "Confusion matrix:\n",
      "[[21  4]\n",
      " [ 7 22]]\n"
     ]
    },
    {
     "data": {
      "image/png": "[encoded data removed]",
      "text/plain": [
       "<Figure size 640x480 with 2 Axes>"
      ]
     },
     "metadata": {},
     "output_type": "display_data"
    }
   ],
   "source": [
    "disp = metrics.ConfusionMatrixDisplay.from_predictions(y_test_com_g1_g2, predicted)\n",
    "disp.figure_.suptitle(\"Confusion Matrix\")\n",
    "print(f\"Confusion matrix:\\n{disp.confusion_matrix}\")\n",
    "\n",
    "plt.show()"
   ]
  }
 ],
 "metadata": {
  "kernelspec": {
   "display_name": "base",
   "language": "python",
   "name": "python3"
  },
  "language_info": {
   "codemirror_mode": {
    "name": "ipython",
    "version": 3
   },
   "file_extension": ".py",
   "mimetype": "text/x-python",
   "name": "python",
   "nbconvert_exporter": "python",
   "pygments_lexer": "ipython3",
   "version": "3.8.8"
  },
  "orig_nbformat": 4,
  "vscode": {
   "interpreter": {
    "hash": "4f1817f4ca1238e220c65b040b84dac7e39b4c4769ef1c3db651a9cfe9c6527a"
   }
  }
 },
 "nbformat": 4,
 "nbformat_minor": 2
}
